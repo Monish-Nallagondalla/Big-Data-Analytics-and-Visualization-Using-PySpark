{
 "cells": [
  {
   "cell_type": "code",
   "execution_count": 1,
   "id": "lrOfc1WerMfj",
   "metadata": {
    "colab": {
     "base_uri": "https://localhost:8080/"
    },
    "id": "lrOfc1WerMfj",
    "outputId": "1ca52243-8002-481c-c626-998558a8cd8a"
   },
   "outputs": [
    {
     "name": "stdout",
     "output_type": "stream",
     "text": [
      "Collecting pyspark\n",
      "\u001b[?25l  Downloading https://files.pythonhosted.org/packages/89/db/e18cfd78e408de957821ec5ca56de1250645b05f8523d169803d8df35a64/pyspark-3.1.2.tar.gz (212.4MB)\n",
      "\u001b[K     |████████████████████████████████| 212.4MB 70kB/s \n",
      "\u001b[?25hCollecting py4j==0.10.9\n",
      "\u001b[?25l  Downloading https://files.pythonhosted.org/packages/9e/b6/6a4fb90cd235dc8e265a6a2067f2a2c99f0d91787f06aca4bcf7c23f3f80/py4j-0.10.9-py2.py3-none-any.whl (198kB)\n",
      "\u001b[K     |████████████████████████████████| 204kB 18.1MB/s \n",
      "\u001b[?25hBuilding wheels for collected packages: pyspark\n",
      "  Building wheel for pyspark (setup.py) ... \u001b[?25l\u001b[?25hdone\n",
      "  Created wheel for pyspark: filename=pyspark-3.1.2-py2.py3-none-any.whl size=212880768 sha256=85544fd004ed82c939256748d2fc99b81a77b1b02b54430fb68ed00d55509103\n",
      "  Stored in directory: /root/.cache/pip/wheels/40/1b/2c/30f43be2627857ab80062bef1527c0128f7b4070b6b2d02139\n",
      "Successfully built pyspark\n",
      "Installing collected packages: py4j, pyspark\n",
      "Successfully installed py4j-0.10.9 pyspark-3.1.2\n"
     ]
    }
   ],
   "source": [
    "pip install pyspark\n"
   ]
  },
  {
   "cell_type": "code",
   "execution_count": 2,
   "id": "ae6a1a07-4ecf-4165-b2c4-902ba124dc77",
   "metadata": {
    "id": "ae6a1a07-4ecf-4165-b2c4-902ba124dc77"
   },
   "outputs": [],
   "source": [
    "from pyspark import SparkContext\n",
    "from pyspark.sql import SparkSession, Row\n",
    "from pyspark.ml.feature import VectorAssembler, StringIndexer, OneHotEncoder\n",
    "from pyspark.ml import Pipeline\n",
    "from pyspark.ml.classification import RandomForestClassifier\n",
    "import warnings \n",
    "warnings.filterwarnings('ignore')\n"
   ]
  },
  {
   "cell_type": "code",
   "execution_count": 3,
   "id": "f3bbe32e-8607-4123-8d82-2957a1ba1d4e",
   "metadata": {
    "id": "f3bbe32e-8607-4123-8d82-2957a1ba1d4e"
   },
   "outputs": [],
   "source": [
    "sc = SparkContext()\n",
    "spark = SparkSession.builder.appName('google_play_store').getOrCreate()"
   ]
  },
  {
   "cell_type": "code",
   "execution_count": 4,
   "id": "94d4e64b-6b07-4e07-8b3f-e6320b8702f7",
   "metadata": {
    "colab": {
     "base_uri": "https://localhost:8080/"
    },
    "id": "94d4e64b-6b07-4e07-8b3f-e6320b8702f7",
    "outputId": "a3960929-011c-4648-ff20-94281a361bee"
   },
   "outputs": [
    {
     "name": "stdout",
     "output_type": "stream",
     "text": [
      "root\n",
      " |-- App Name: string (nullable = true)\n",
      " |-- App Id: string (nullable = true)\n",
      " |-- Category: string (nullable = true)\n",
      " |-- Rating: string (nullable = true)\n",
      " |-- Rating Count: string (nullable = true)\n",
      " |-- Installs: string (nullable = true)\n",
      " |-- Minimum Installs: string (nullable = true)\n",
      " |-- Maximum Installs: string (nullable = true)\n",
      " |-- Free: string (nullable = true)\n",
      " |-- Price: string (nullable = true)\n",
      " |-- Currency: string (nullable = true)\n",
      " |-- Size: string (nullable = true)\n",
      " |-- Minimum Android: string (nullable = true)\n",
      " |-- Developer Id: string (nullable = true)\n",
      " |-- Developer Website: string (nullable = true)\n",
      " |-- Developer Email: string (nullable = true)\n",
      " |-- Released: string (nullable = true)\n",
      " |-- Last Updated: string (nullable = true)\n",
      " |-- Content Rating: string (nullable = true)\n",
      " |-- Privacy Policy: string (nullable = true)\n",
      " |-- Ad Supported: string (nullable = true)\n",
      " |-- In App Purchases: string (nullable = true)\n",
      " |-- Editors Choice: boolean (nullable = true)\n",
      " |-- Scraped Time: string (nullable = true)\n",
      "\n"
     ]
    }
   ],
   "source": [
    "df = spark.read.csv('Google-Playstore.csv', header = True, inferSchema = True)\n",
    "df.printSchema()"
   ]
  },
  {
   "cell_type": "code",
   "execution_count": 5,
   "id": "ce16594d-6c9b-4a67-8afa-aa0ffc471e86",
   "metadata": {
    "colab": {
     "base_uri": "https://localhost:8080/",
     "height": 1000
    },
    "id": "ce16594d-6c9b-4a67-8afa-aa0ffc471e86",
    "outputId": "17bda3e9-9857-477a-8121-93f150c88d33"
   },
   "outputs": [
    {
     "data": {
      "text/html": [
       "<div>\n",
       "<style scoped>\n",
       "    .dataframe tbody tr th:only-of-type {\n",
       "        vertical-align: middle;\n",
       "    }\n",
       "\n",
       "    .dataframe tbody tr th {\n",
       "        vertical-align: top;\n",
       "    }\n",
       "\n",
       "    .dataframe thead th {\n",
       "        text-align: right;\n",
       "    }\n",
       "</style>\n",
       "<table border=\"1\" class=\"dataframe\">\n",
       "  <thead>\n",
       "    <tr style=\"text-align: right;\">\n",
       "      <th></th>\n",
       "      <th>0</th>\n",
       "      <th>1</th>\n",
       "      <th>2</th>\n",
       "      <th>3</th>\n",
       "      <th>4</th>\n",
       "    </tr>\n",
       "  </thead>\n",
       "  <tbody>\n",
       "    <tr>\n",
       "      <th>App Name</th>\n",
       "      <td>Gakondo</td>\n",
       "      <td>Ampere Battery Info</td>\n",
       "      <td>Vibook</td>\n",
       "      <td>Smart City Trichy Public Service Vehicles 17UC...</td>\n",
       "      <td>GROW.me</td>\n",
       "    </tr>\n",
       "    <tr>\n",
       "      <th>App Id</th>\n",
       "      <td>com.ishakwe.gakondo</td>\n",
       "      <td>com.webserveis.batteryinfo</td>\n",
       "      <td>com.doantiepvien.crm</td>\n",
       "      <td>cst.stJoseph.ug17ucs548</td>\n",
       "      <td>com.horodyski.grower</td>\n",
       "    </tr>\n",
       "    <tr>\n",
       "      <th>Category</th>\n",
       "      <td>Adventure</td>\n",
       "      <td>Tools</td>\n",
       "      <td>Productivity</td>\n",
       "      <td>Communication</td>\n",
       "      <td>Tools</td>\n",
       "    </tr>\n",
       "    <tr>\n",
       "      <th>Rating</th>\n",
       "      <td>0</td>\n",
       "      <td>4.4</td>\n",
       "      <td>0</td>\n",
       "      <td>5</td>\n",
       "      <td>0</td>\n",
       "    </tr>\n",
       "    <tr>\n",
       "      <th>Rating Count</th>\n",
       "      <td>0</td>\n",
       "      <td>64</td>\n",
       "      <td>0</td>\n",
       "      <td>5</td>\n",
       "      <td>0</td>\n",
       "    </tr>\n",
       "    <tr>\n",
       "      <th>Installs</th>\n",
       "      <td>10+</td>\n",
       "      <td>5,000+</td>\n",
       "      <td>50+</td>\n",
       "      <td>10+</td>\n",
       "      <td>100+</td>\n",
       "    </tr>\n",
       "    <tr>\n",
       "      <th>Minimum Installs</th>\n",
       "      <td>10</td>\n",
       "      <td>5000</td>\n",
       "      <td>50</td>\n",
       "      <td>10</td>\n",
       "      <td>100</td>\n",
       "    </tr>\n",
       "    <tr>\n",
       "      <th>Maximum Installs</th>\n",
       "      <td>15</td>\n",
       "      <td>7662</td>\n",
       "      <td>58</td>\n",
       "      <td>19</td>\n",
       "      <td>478</td>\n",
       "    </tr>\n",
       "    <tr>\n",
       "      <th>Free</th>\n",
       "      <td>TRUE</td>\n",
       "      <td>TRUE</td>\n",
       "      <td>TRUE</td>\n",
       "      <td>TRUE</td>\n",
       "      <td>TRUE</td>\n",
       "    </tr>\n",
       "    <tr>\n",
       "      <th>Price</th>\n",
       "      <td>0</td>\n",
       "      <td>0</td>\n",
       "      <td>0</td>\n",
       "      <td>0</td>\n",
       "      <td>0</td>\n",
       "    </tr>\n",
       "    <tr>\n",
       "      <th>Currency</th>\n",
       "      <td>USD</td>\n",
       "      <td>USD</td>\n",
       "      <td>USD</td>\n",
       "      <td>USD</td>\n",
       "      <td>USD</td>\n",
       "    </tr>\n",
       "    <tr>\n",
       "      <th>Size</th>\n",
       "      <td>10M</td>\n",
       "      <td>2.9M</td>\n",
       "      <td>3.7M</td>\n",
       "      <td>1.8M</td>\n",
       "      <td>6.2M</td>\n",
       "    </tr>\n",
       "    <tr>\n",
       "      <th>Minimum Android</th>\n",
       "      <td>7.1 and up</td>\n",
       "      <td>5.0 and up</td>\n",
       "      <td>4.0.3 and up</td>\n",
       "      <td>4.0.3 and up</td>\n",
       "      <td>4.1 and up</td>\n",
       "    </tr>\n",
       "    <tr>\n",
       "      <th>Developer Id</th>\n",
       "      <td>Jean Confident Irénée NIYIZIBYOSE</td>\n",
       "      <td>Webserveis</td>\n",
       "      <td>Cabin Crew</td>\n",
       "      <td>Climate Smart Tech2</td>\n",
       "      <td>Rafal Milek-Horodyski</td>\n",
       "    </tr>\n",
       "    <tr>\n",
       "      <th>Developer Website</th>\n",
       "      <td>https://beniyizibyose.tk/#/</td>\n",
       "      <td>https://webserveis.netlify.app/</td>\n",
       "      <td>None</td>\n",
       "      <td>http://www.climatesmarttech.com/</td>\n",
       "      <td>http://www.horodyski.com.pl</td>\n",
       "    </tr>\n",
       "    <tr>\n",
       "      <th>Developer Email</th>\n",
       "      <td>jean21101999@gmail.com</td>\n",
       "      <td>webserveis@gmail.com</td>\n",
       "      <td>vnacrewit@gmail.com</td>\n",
       "      <td>climatesmarttech2@gmail.com</td>\n",
       "      <td>rmilekhorodyski@gmail.com</td>\n",
       "    </tr>\n",
       "    <tr>\n",
       "      <th>Released</th>\n",
       "      <td>Feb 26, 2020</td>\n",
       "      <td>May 21, 2020</td>\n",
       "      <td>Aug 9, 2019</td>\n",
       "      <td>Sep 10, 2018</td>\n",
       "      <td>Feb 21, 2020</td>\n",
       "    </tr>\n",
       "    <tr>\n",
       "      <th>Last Updated</th>\n",
       "      <td>Feb 26, 2020</td>\n",
       "      <td>May 06, 2021</td>\n",
       "      <td>Aug 19, 2019</td>\n",
       "      <td>Oct 13, 2018</td>\n",
       "      <td>Nov 12, 2018</td>\n",
       "    </tr>\n",
       "    <tr>\n",
       "      <th>Content Rating</th>\n",
       "      <td>Everyone</td>\n",
       "      <td>Everyone</td>\n",
       "      <td>Everyone</td>\n",
       "      <td>Everyone</td>\n",
       "      <td>Everyone</td>\n",
       "    </tr>\n",
       "    <tr>\n",
       "      <th>Privacy Policy</th>\n",
       "      <td>https://beniyizibyose.tk/projects/</td>\n",
       "      <td>https://dev4phones.wordpress.com/licencia-de-uso/</td>\n",
       "      <td>https://www.vietnamairlines.com/vn/en/terms-an...</td>\n",
       "      <td>None</td>\n",
       "      <td>http://www.horodyski.com.pl</td>\n",
       "    </tr>\n",
       "    <tr>\n",
       "      <th>Ad Supported</th>\n",
       "      <td>FALSE</td>\n",
       "      <td>TRUE</td>\n",
       "      <td>FALSE</td>\n",
       "      <td>TRUE</td>\n",
       "      <td>FALSE</td>\n",
       "    </tr>\n",
       "    <tr>\n",
       "      <th>In App Purchases</th>\n",
       "      <td>FALSE</td>\n",
       "      <td>FALSE</td>\n",
       "      <td>FALSE</td>\n",
       "      <td>FALSE</td>\n",
       "      <td>FALSE</td>\n",
       "    </tr>\n",
       "    <tr>\n",
       "      <th>Editors Choice</th>\n",
       "      <td>False</td>\n",
       "      <td>False</td>\n",
       "      <td>False</td>\n",
       "      <td>False</td>\n",
       "      <td>False</td>\n",
       "    </tr>\n",
       "    <tr>\n",
       "      <th>Scraped Time</th>\n",
       "      <td>15-06-2021 20:19</td>\n",
       "      <td>15-06-2021 20:19</td>\n",
       "      <td>15-06-2021 20:19</td>\n",
       "      <td>15-06-2021 20:19</td>\n",
       "      <td>15-06-2021 20:19</td>\n",
       "    </tr>\n",
       "  </tbody>\n",
       "</table>\n",
       "</div>"
      ],
      "text/plain": [
       "                                                    0  ...                            4\n",
       "App Name                                      Gakondo  ...                      GROW.me\n",
       "App Id                            com.ishakwe.gakondo  ...         com.horodyski.grower\n",
       "Category                                    Adventure  ...                        Tools\n",
       "Rating                                              0  ...                            0\n",
       "Rating Count                                        0  ...                            0\n",
       "Installs                                          10+  ...                         100+\n",
       "Minimum Installs                                   10  ...                          100\n",
       "Maximum Installs                                   15  ...                          478\n",
       "Free                                             TRUE  ...                         TRUE\n",
       "Price                                               0  ...                            0\n",
       "Currency                                          USD  ...                          USD\n",
       "Size                                              10M  ...                         6.2M\n",
       "Minimum Android                            7.1 and up  ...                   4.1 and up\n",
       "Developer Id        Jean Confident Irénée NIYIZIBYOSE  ...        Rafal Milek-Horodyski\n",
       "Developer Website         https://beniyizibyose.tk/#/  ...  http://www.horodyski.com.pl\n",
       "Developer Email                jean21101999@gmail.com  ...    rmilekhorodyski@gmail.com\n",
       "Released                                 Feb 26, 2020  ...                 Feb 21, 2020\n",
       "Last Updated                             Feb 26, 2020  ...                 Nov 12, 2018\n",
       "Content Rating                               Everyone  ...                     Everyone\n",
       "Privacy Policy     https://beniyizibyose.tk/projects/  ...  http://www.horodyski.com.pl\n",
       "Ad Supported                                    FALSE  ...                        FALSE\n",
       "In App Purchases                                FALSE  ...                        FALSE\n",
       "Editors Choice                                  False  ...                        False\n",
       "Scraped Time                         15-06-2021 20:19  ...             15-06-2021 20:19\n",
       "\n",
       "[24 rows x 5 columns]"
      ]
     },
     "execution_count": 5,
     "metadata": {
      "tags": []
     },
     "output_type": "execute_result"
    }
   ],
   "source": [
    "import pandas as pd\n",
    "pd.DataFrame(df.take(5), columns=df.columns).transpose()"
   ]
  },
  {
   "cell_type": "code",
   "execution_count": 6,
   "id": "79fbd8a5-1e4f-4aef-953b-a16ce38c485a",
   "metadata": {
    "id": "79fbd8a5-1e4f-4aef-953b-a16ce38c485a"
   },
   "outputs": [],
   "source": [
    "dT = df.drop(\"Developer Email\")"
   ]
  },
  {
   "cell_type": "code",
   "execution_count": 7,
   "id": "a748db1f-f822-487b-9b70-040bacc1b694",
   "metadata": {
    "colab": {
     "base_uri": "https://localhost:8080/"
    },
    "id": "a748db1f-f822-487b-9b70-040bacc1b694",
    "outputId": "4faf53b2-5b85-4edb-c6de-4d7a80b59d5e"
   },
   "outputs": [
    {
     "data": {
      "text/plain": [
       "<bound method DataFrame.show of DataFrame[App Name: string, App Id: string, Category: string, Rating: string, Rating Count: string, Installs: string, Minimum Installs: string, Maximum Installs: string, Free: string, Price: string, Currency: string, Size: string, Minimum Android: string, Developer Id: string, Developer Website: string, Released: string, Last Updated: string, Content Rating: string, Privacy Policy: string, Ad Supported: string, In App Purchases: string, Editors Choice: boolean, Scraped Time: string]>"
      ]
     },
     "execution_count": 7,
     "metadata": {
      "tags": []
     },
     "output_type": "execute_result"
    }
   ],
   "source": [
    "dT.show"
   ]
  },
  {
   "cell_type": "code",
   "execution_count": 8,
   "id": "67e8fc26-6457-422e-b60d-8f39744adc3b",
   "metadata": {
    "colab": {
     "base_uri": "https://localhost:8080/",
     "height": 1000
    },
    "id": "67e8fc26-6457-422e-b60d-8f39744adc3b",
    "outputId": "e08eb001-07a9-44b6-b2fd-2cd84f7dbcb2"
   },
   "outputs": [
    {
     "data": {
      "text/html": [
       "<div>\n",
       "<style scoped>\n",
       "    .dataframe tbody tr th:only-of-type {\n",
       "        vertical-align: middle;\n",
       "    }\n",
       "\n",
       "    .dataframe tbody tr th {\n",
       "        vertical-align: top;\n",
       "    }\n",
       "\n",
       "    .dataframe thead th {\n",
       "        text-align: right;\n",
       "    }\n",
       "</style>\n",
       "<table border=\"1\" class=\"dataframe\">\n",
       "  <thead>\n",
       "    <tr style=\"text-align: right;\">\n",
       "      <th></th>\n",
       "      <th>0</th>\n",
       "      <th>1</th>\n",
       "      <th>2</th>\n",
       "      <th>3</th>\n",
       "      <th>4</th>\n",
       "    </tr>\n",
       "  </thead>\n",
       "  <tbody>\n",
       "    <tr>\n",
       "      <th>App Name</th>\n",
       "      <td>Gakondo</td>\n",
       "      <td>Ampere Battery Info</td>\n",
       "      <td>Vibook</td>\n",
       "      <td>Smart City Trichy Public Service Vehicles 17UC...</td>\n",
       "      <td>GROW.me</td>\n",
       "    </tr>\n",
       "    <tr>\n",
       "      <th>App Id</th>\n",
       "      <td>com.ishakwe.gakondo</td>\n",
       "      <td>com.webserveis.batteryinfo</td>\n",
       "      <td>com.doantiepvien.crm</td>\n",
       "      <td>cst.stJoseph.ug17ucs548</td>\n",
       "      <td>com.horodyski.grower</td>\n",
       "    </tr>\n",
       "    <tr>\n",
       "      <th>Category</th>\n",
       "      <td>Adventure</td>\n",
       "      <td>Tools</td>\n",
       "      <td>Productivity</td>\n",
       "      <td>Communication</td>\n",
       "      <td>Tools</td>\n",
       "    </tr>\n",
       "    <tr>\n",
       "      <th>Rating</th>\n",
       "      <td>0</td>\n",
       "      <td>4.4</td>\n",
       "      <td>0</td>\n",
       "      <td>5</td>\n",
       "      <td>0</td>\n",
       "    </tr>\n",
       "    <tr>\n",
       "      <th>Rating Count</th>\n",
       "      <td>0</td>\n",
       "      <td>64</td>\n",
       "      <td>0</td>\n",
       "      <td>5</td>\n",
       "      <td>0</td>\n",
       "    </tr>\n",
       "    <tr>\n",
       "      <th>Installs</th>\n",
       "      <td>10+</td>\n",
       "      <td>5,000+</td>\n",
       "      <td>50+</td>\n",
       "      <td>10+</td>\n",
       "      <td>100+</td>\n",
       "    </tr>\n",
       "    <tr>\n",
       "      <th>Minimum Installs</th>\n",
       "      <td>10</td>\n",
       "      <td>5000</td>\n",
       "      <td>50</td>\n",
       "      <td>10</td>\n",
       "      <td>100</td>\n",
       "    </tr>\n",
       "    <tr>\n",
       "      <th>Maximum Installs</th>\n",
       "      <td>15</td>\n",
       "      <td>7662</td>\n",
       "      <td>58</td>\n",
       "      <td>19</td>\n",
       "      <td>478</td>\n",
       "    </tr>\n",
       "    <tr>\n",
       "      <th>Free</th>\n",
       "      <td>TRUE</td>\n",
       "      <td>TRUE</td>\n",
       "      <td>TRUE</td>\n",
       "      <td>TRUE</td>\n",
       "      <td>TRUE</td>\n",
       "    </tr>\n",
       "    <tr>\n",
       "      <th>Price</th>\n",
       "      <td>0</td>\n",
       "      <td>0</td>\n",
       "      <td>0</td>\n",
       "      <td>0</td>\n",
       "      <td>0</td>\n",
       "    </tr>\n",
       "    <tr>\n",
       "      <th>Currency</th>\n",
       "      <td>USD</td>\n",
       "      <td>USD</td>\n",
       "      <td>USD</td>\n",
       "      <td>USD</td>\n",
       "      <td>USD</td>\n",
       "    </tr>\n",
       "    <tr>\n",
       "      <th>Size</th>\n",
       "      <td>10M</td>\n",
       "      <td>2.9M</td>\n",
       "      <td>3.7M</td>\n",
       "      <td>1.8M</td>\n",
       "      <td>6.2M</td>\n",
       "    </tr>\n",
       "    <tr>\n",
       "      <th>Minimum Android</th>\n",
       "      <td>7.1 and up</td>\n",
       "      <td>5.0 and up</td>\n",
       "      <td>4.0.3 and up</td>\n",
       "      <td>4.0.3 and up</td>\n",
       "      <td>4.1 and up</td>\n",
       "    </tr>\n",
       "    <tr>\n",
       "      <th>Developer Id</th>\n",
       "      <td>Jean Confident Irénée NIYIZIBYOSE</td>\n",
       "      <td>Webserveis</td>\n",
       "      <td>Cabin Crew</td>\n",
       "      <td>Climate Smart Tech2</td>\n",
       "      <td>Rafal Milek-Horodyski</td>\n",
       "    </tr>\n",
       "    <tr>\n",
       "      <th>Developer Website</th>\n",
       "      <td>https://beniyizibyose.tk/#/</td>\n",
       "      <td>https://webserveis.netlify.app/</td>\n",
       "      <td>None</td>\n",
       "      <td>http://www.climatesmarttech.com/</td>\n",
       "      <td>http://www.horodyski.com.pl</td>\n",
       "    </tr>\n",
       "    <tr>\n",
       "      <th>Released</th>\n",
       "      <td>Feb 26, 2020</td>\n",
       "      <td>May 21, 2020</td>\n",
       "      <td>Aug 9, 2019</td>\n",
       "      <td>Sep 10, 2018</td>\n",
       "      <td>Feb 21, 2020</td>\n",
       "    </tr>\n",
       "    <tr>\n",
       "      <th>Last Updated</th>\n",
       "      <td>Feb 26, 2020</td>\n",
       "      <td>May 06, 2021</td>\n",
       "      <td>Aug 19, 2019</td>\n",
       "      <td>Oct 13, 2018</td>\n",
       "      <td>Nov 12, 2018</td>\n",
       "    </tr>\n",
       "    <tr>\n",
       "      <th>Content Rating</th>\n",
       "      <td>Everyone</td>\n",
       "      <td>Everyone</td>\n",
       "      <td>Everyone</td>\n",
       "      <td>Everyone</td>\n",
       "      <td>Everyone</td>\n",
       "    </tr>\n",
       "    <tr>\n",
       "      <th>Privacy Policy</th>\n",
       "      <td>https://beniyizibyose.tk/projects/</td>\n",
       "      <td>https://dev4phones.wordpress.com/licencia-de-uso/</td>\n",
       "      <td>https://www.vietnamairlines.com/vn/en/terms-an...</td>\n",
       "      <td>None</td>\n",
       "      <td>http://www.horodyski.com.pl</td>\n",
       "    </tr>\n",
       "    <tr>\n",
       "      <th>Ad Supported</th>\n",
       "      <td>FALSE</td>\n",
       "      <td>TRUE</td>\n",
       "      <td>FALSE</td>\n",
       "      <td>TRUE</td>\n",
       "      <td>FALSE</td>\n",
       "    </tr>\n",
       "    <tr>\n",
       "      <th>In App Purchases</th>\n",
       "      <td>FALSE</td>\n",
       "      <td>FALSE</td>\n",
       "      <td>FALSE</td>\n",
       "      <td>FALSE</td>\n",
       "      <td>FALSE</td>\n",
       "    </tr>\n",
       "    <tr>\n",
       "      <th>Editors Choice</th>\n",
       "      <td>False</td>\n",
       "      <td>False</td>\n",
       "      <td>False</td>\n",
       "      <td>False</td>\n",
       "      <td>False</td>\n",
       "    </tr>\n",
       "    <tr>\n",
       "      <th>Scraped Time</th>\n",
       "      <td>15-06-2021 20:19</td>\n",
       "      <td>15-06-2021 20:19</td>\n",
       "      <td>15-06-2021 20:19</td>\n",
       "      <td>15-06-2021 20:19</td>\n",
       "      <td>15-06-2021 20:19</td>\n",
       "    </tr>\n",
       "  </tbody>\n",
       "</table>\n",
       "</div>"
      ],
      "text/plain": [
       "                                                    0  ...                            4\n",
       "App Name                                      Gakondo  ...                      GROW.me\n",
       "App Id                            com.ishakwe.gakondo  ...         com.horodyski.grower\n",
       "Category                                    Adventure  ...                        Tools\n",
       "Rating                                              0  ...                            0\n",
       "Rating Count                                        0  ...                            0\n",
       "Installs                                          10+  ...                         100+\n",
       "Minimum Installs                                   10  ...                          100\n",
       "Maximum Installs                                   15  ...                          478\n",
       "Free                                             TRUE  ...                         TRUE\n",
       "Price                                               0  ...                            0\n",
       "Currency                                          USD  ...                          USD\n",
       "Size                                              10M  ...                         6.2M\n",
       "Minimum Android                            7.1 and up  ...                   4.1 and up\n",
       "Developer Id        Jean Confident Irénée NIYIZIBYOSE  ...        Rafal Milek-Horodyski\n",
       "Developer Website         https://beniyizibyose.tk/#/  ...  http://www.horodyski.com.pl\n",
       "Released                                 Feb 26, 2020  ...                 Feb 21, 2020\n",
       "Last Updated                             Feb 26, 2020  ...                 Nov 12, 2018\n",
       "Content Rating                               Everyone  ...                     Everyone\n",
       "Privacy Policy     https://beniyizibyose.tk/projects/  ...  http://www.horodyski.com.pl\n",
       "Ad Supported                                    FALSE  ...                        FALSE\n",
       "In App Purchases                                FALSE  ...                        FALSE\n",
       "Editors Choice                                  False  ...                        False\n",
       "Scraped Time                         15-06-2021 20:19  ...             15-06-2021 20:19\n",
       "\n",
       "[23 rows x 5 columns]"
      ]
     },
     "execution_count": 8,
     "metadata": {
      "tags": []
     },
     "output_type": "execute_result"
    }
   ],
   "source": [
    "import pandas as pd\n",
    "pd.DataFrame(dT.take(5), columns=dT.columns).transpose()"
   ]
  },
  {
   "cell_type": "code",
   "execution_count": 9,
   "id": "88e95a89-7179-4732-8627-7a877dbdf5ac",
   "metadata": {
    "colab": {
     "base_uri": "https://localhost:8080/",
     "height": 214
    },
    "id": "88e95a89-7179-4732-8627-7a877dbdf5ac",
    "outputId": "29deca9f-adeb-4007-cd91-ffc3a75b4257"
   },
   "outputs": [
    {
     "data": {
      "text/html": [
       "\n",
       "            <div>\n",
       "                <p><b>SparkSession - in-memory</b></p>\n",
       "                \n",
       "        <div>\n",
       "            <p><b>SparkContext</b></p>\n",
       "\n",
       "            <p><a href=\"http://673828f1763e:4040\">Spark UI</a></p>\n",
       "\n",
       "            <dl>\n",
       "              <dt>Version</dt>\n",
       "                <dd><code>v3.1.2</code></dd>\n",
       "              <dt>Master</dt>\n",
       "                <dd><code>local[*]</code></dd>\n",
       "              <dt>AppName</dt>\n",
       "                <dd><code>pyspark-shell</code></dd>\n",
       "            </dl>\n",
       "        </div>\n",
       "        \n",
       "            </div>\n",
       "        "
      ],
      "text/plain": [
       "<pyspark.sql.session.SparkSession at 0x7f1698987210>"
      ]
     },
     "execution_count": 9,
     "metadata": {
      "tags": []
     },
     "output_type": "execute_result"
    }
   ],
   "source": [
    "spark"
   ]
  },
  {
   "cell_type": "code",
   "execution_count": 10,
   "id": "50880dbc-9ff9-46ad-ba1b-abfbbe62e7ad",
   "metadata": {
    "id": "50880dbc-9ff9-46ad-ba1b-abfbbe62e7ad"
   },
   "outputs": [],
   "source": [
    "ggle = spark.read.csv('Google-Playstore.csv', header=True)"
   ]
  },
  {
   "cell_type": "code",
   "execution_count": 11,
   "id": "af8899f1-fb53-45f9-8c5c-5a557c09261b",
   "metadata": {
    "colab": {
     "base_uri": "https://localhost:8080/"
    },
    "id": "af8899f1-fb53-45f9-8c5c-5a557c09261b",
    "outputId": "bda8bc84-dc89-4a62-f1de-8763fc2a2047"
   },
   "outputs": [
    {
     "data": {
      "text/plain": [
       "['App Name',\n",
       " 'App Id',\n",
       " 'Category',\n",
       " 'Rating',\n",
       " 'Rating Count',\n",
       " 'Installs',\n",
       " 'Minimum Installs',\n",
       " 'Maximum Installs',\n",
       " 'Free',\n",
       " 'Price',\n",
       " 'Currency',\n",
       " 'Size',\n",
       " 'Minimum Android',\n",
       " 'Developer Id',\n",
       " 'Developer Website',\n",
       " 'Developer Email',\n",
       " 'Released',\n",
       " 'Last Updated',\n",
       " 'Content Rating',\n",
       " 'Privacy Policy',\n",
       " 'Ad Supported',\n",
       " 'In App Purchases',\n",
       " 'Editors Choice',\n",
       " 'Scraped Time']"
      ]
     },
     "execution_count": 11,
     "metadata": {
      "tags": []
     },
     "output_type": "execute_result"
    }
   ],
   "source": [
    "ggle.columns"
   ]
  },
  {
   "cell_type": "code",
   "execution_count": 12,
   "id": "a631fdda-3d8a-4439-99cf-05bf263f33f9",
   "metadata": {
    "id": "a631fdda-3d8a-4439-99cf-05bf263f33f9"
   },
   "outputs": [],
   "source": [
    "ggle = ggle.withColumn(\"Rating\", ggle.Rating.cast('float'))\n",
    "ggle = ggle.withColumn(\"Rating Count\", ggle['Rating Count'].cast('float'))\n",
    "ggle = ggle.withColumn(\"Minimum Installs\", ggle['Minimum Installs'].cast('float'))\n",
    "ggle = ggle.withColumn(\"Maximum Installs\", ggle['Maximum Installs'].cast('float'))\n",
    "ggle = ggle.withColumn(\"Price\", ggle.Price.cast('float'))\n",
    "ggle = ggle.withColumn(\"Free\", ggle.Rating.cast('boolean'))\n",
    "ggle = ggle.withColumn(\"Ad Supported\", ggle['Ad Supported'].cast('boolean'))\n",
    "ggle = ggle.withColumn(\"In App Purchases\", ggle['In App Purchases'].cast('boolean'))\n",
    "ggle = ggle.withColumn(\"Editors Choice\", ggle['Editors Choice'].cast('boolean'))\n"
   ]
  },
  {
   "cell_type": "code",
   "execution_count": 13,
   "id": "e83ed050-0728-4839-b36c-464203fde0c8",
   "metadata": {
    "id": "e83ed050-0728-4839-b36c-464203fde0c8"
   },
   "outputs": [],
   "source": [
    "to_drp= (\n",
    "    'App Id', 'Minimum Android', \n",
    "    'Developer Id', 'Developer Website', 'Developer Email', 'Privacy Policy', \n",
    "    'Ad Supported', 'In App Purchases', 'Editors Choice','Scraped Time','Free'\n",
    ")\n",
    "ggle = ggle.drop(*to_drp)\n"
   ]
  },
  {
   "cell_type": "code",
   "execution_count": 14,
   "id": "c7d793de-c253-48d5-818b-6ce483d4b846",
   "metadata": {
    "colab": {
     "base_uri": "https://localhost:8080/"
    },
    "id": "c7d793de-c253-48d5-818b-6ce483d4b846",
    "outputId": "5a04ff49-a1ec-42b5-91e0-c6f34bea38b3"
   },
   "outputs": [
    {
     "name": "stdout",
     "output_type": "stream",
     "text": [
      "+--------------------+----------------+------+------------+--------+----------------+----------------+-----+--------+----+------------+------------+--------------+\n",
      "|            App Name|        Category|Rating|Rating Count|Installs|Minimum Installs|Maximum Installs|Price|Currency|Size|    Released|Last Updated|Content Rating|\n",
      "+--------------------+----------------+------+------------+--------+----------------+----------------+-----+--------+----+------------+------------+--------------+\n",
      "|             Gakondo|       Adventure|   0.0|         0.0|     10+|            10.0|            15.0|  0.0|     USD| 10M|Feb 26, 2020|Feb 26, 2020|      Everyone|\n",
      "| Ampere Battery Info|           Tools|   4.4|        64.0|  5,000+|          5000.0|          7662.0|  0.0|     USD|2.9M|May 21, 2020|May 06, 2021|      Everyone|\n",
      "|              Vibook|    Productivity|   0.0|         0.0|     50+|            50.0|            58.0|  0.0|     USD|3.7M| Aug 9, 2019|Aug 19, 2019|      Everyone|\n",
      "|Smart City Trichy...|   Communication|   5.0|         5.0|     10+|            10.0|            19.0|  0.0|     USD|1.8M|Sep 10, 2018|Oct 13, 2018|      Everyone|\n",
      "|             GROW.me|           Tools|   0.0|         0.0|    100+|           100.0|           478.0|  0.0|     USD|6.2M|Feb 21, 2020|Nov 12, 2018|      Everyone|\n",
      "|              IMOCCI|          Social|   0.0|         0.0|     50+|            50.0|            89.0|  0.0|     USD| 46M|Dec 24, 2018|Dec 20, 2019|          Teen|\n",
      "|unlimited 4G data...|Libraries & Demo|   4.5|        12.0|  1,000+|          1000.0|          2567.0|  0.0|     USD|2.5M|Sep 23, 2019|Sep 27, 2019|      Everyone|\n",
      "|The Everyday Cale...|       Lifestyle|   2.0|        39.0|    500+|           500.0|           702.0|  0.0|     USD| 16M|Jun 21, 2019|Jun 21, 2019|      Everyone|\n",
      "|           WhatsOpen|   Communication|   0.0|         0.0|     10+|            10.0|            18.0|  0.0|     USD|1.3M|        null|Dec 07, 2018|          Teen|\n",
      "|Neon 3d Iron Tech...| Personalization|   4.7|       820.0| 50,000+|         50000.0|         62433.0|  0.0|     USD|3.5M|Sep 22, 2019|Oct 07, 2020|      Everyone|\n",
      "+--------------------+----------------+------+------------+--------+----------------+----------------+-----+--------+----+------------+------------+--------------+\n",
      "only showing top 10 rows\n",
      "\n"
     ]
    }
   ],
   "source": [
    "ggle.show(10)"
   ]
  },
  {
   "cell_type": "code",
   "execution_count": 15,
   "id": "2fc4bb35-a3a6-46cb-b7e1-1f3c98c34aeb",
   "metadata": {
    "colab": {
     "base_uri": "https://localhost:8080/"
    },
    "id": "2fc4bb35-a3a6-46cb-b7e1-1f3c98c34aeb",
    "outputId": "01cae024-ad5e-46d5-fab7-23520c3dac6c"
   },
   "outputs": [
    {
     "name": "stdout",
     "output_type": "stream",
     "text": [
      "root\n",
      " |-- App Name: string (nullable = true)\n",
      " |-- Category: string (nullable = true)\n",
      " |-- Rating: float (nullable = true)\n",
      " |-- Rating Count: float (nullable = true)\n",
      " |-- Installs: string (nullable = true)\n",
      " |-- Minimum Installs: float (nullable = true)\n",
      " |-- Maximum Installs: float (nullable = true)\n",
      " |-- Price: float (nullable = true)\n",
      " |-- Currency: string (nullable = true)\n",
      " |-- Size: string (nullable = true)\n",
      " |-- Released: string (nullable = true)\n",
      " |-- Last Updated: string (nullable = true)\n",
      " |-- Content Rating: string (nullable = true)\n",
      "\n"
     ]
    }
   ],
   "source": [
    "ggle.printSchema()"
   ]
  },
  {
   "cell_type": "code",
   "execution_count": 16,
   "id": "8f95bcfd-fd86-4667-9c59-4901479b3494",
   "metadata": {
    "id": "8f95bcfd-fd86-4667-9c59-4901479b3494"
   },
   "outputs": [],
   "source": [
    "top_8_list = [\n",
    "    'Education', 'Music', 'Business', 'Tools', \n",
    "    'Entertainment', 'Lifestyle', 'Food & Drink', \n",
    "    'Books & Reference'\n",
    "]\n",
    "\n",
    "top = ggle[ggle['category'].isin(top_8_list)]\n",
    "\n"
   ]
  },
  {
   "cell_type": "code",
   "execution_count": 17,
   "id": "80f8c8b8-c2a9-4a50-82cb-bba1b1db7c34",
   "metadata": {
    "colab": {
     "base_uri": "https://localhost:8080/"
    },
    "id": "80f8c8b8-c2a9-4a50-82cb-bba1b1db7c34",
    "outputId": "4b251912-fd48-4c72-fd47-fe3390f81616"
   },
   "outputs": [
    {
     "name": "stdout",
     "output_type": "stream",
     "text": [
      "+--------------------+-----------------+------+------------+--------+----------------+----------------+-----+--------+----+------------+------------+--------------+\n",
      "|            App Name|         Category|Rating|Rating Count|Installs|Minimum Installs|Maximum Installs|Price|Currency|Size|    Released|Last Updated|Content Rating|\n",
      "+--------------------+-----------------+------+------------+--------+----------------+----------------+-----+--------+----+------------+------------+--------------+\n",
      "| Ampere Battery Info|            Tools|   4.4|        64.0|  5,000+|          5000.0|          7662.0|  0.0|     USD|2.9M|May 21, 2020|May 06, 2021|      Everyone|\n",
      "|             GROW.me|            Tools|   0.0|         0.0|    100+|           100.0|           478.0|  0.0|     USD|6.2M|Feb 21, 2020|Nov 12, 2018|      Everyone|\n",
      "|The Everyday Cale...|        Lifestyle|   2.0|        39.0|    500+|           500.0|           702.0|  0.0|     USD| 16M|Jun 21, 2019|Jun 21, 2019|      Everyone|\n",
      "|Readymade Grocery...|     Food & Drink|   4.2|        16.0|  1,000+|          1000.0|          4313.0|  0.0|     USD| 12M| Apr 5, 2020|Mar 23, 2021|      Everyone|\n",
      "|All in one shoppi...|            Tools|   5.0|         6.0|     50+|            50.0|            62.0|  0.0|     USD|2.0M|Apr 24, 2019|May 05, 2019|      Everyone|\n",
      "|      REDMOND  Robot|        Lifestyle|   3.7|       328.0| 10,000+|         10000.0|         31235.0|  0.0|     USD| 70M| Jul 1, 2020|May 26, 2021|      Everyone|\n",
      "|Contemporary Love...|Books & Reference|   0.0|         0.0|      1+|             1.0|             2.0|  0.0|     XXX| 11M|Dec 26, 2020|Mar 23, 2021|    Mature 17+|\n",
      "|Coloring Book Bar...|    Entertainment|   3.8|       736.0|500,000+|        500000.0|        646456.0|  0.0|     USD| 20M|Apr 21, 2019|Nov 13, 2020|      Everyone|\n",
      "|Random Number Gen...|            Tools|   4.2|        35.0| 10,000+|         10000.0|         21124.0|  0.0|     USD|2.4M|May 28, 2017|May 30, 2020|      Everyone|\n",
      "|Dj Car Sound And ...|    Entertainment|   0.0|         0.0|    100+|           100.0|           396.0|  0.0|     USD| 21M|May 17, 2019|May 17, 2019|      Everyone|\n",
      "|        Barnets Hair|        Lifestyle|   0.0|         0.0|    100+|           100.0|           345.0|  0.0|     USD| 36M| Feb 8, 2018|Oct 23, 2020|      Everyone|\n",
      "|        Creepy Story|    Entertainment|   0.0|         0.0|     10+|            10.0|            22.0|  0.0|     USD|6.1M|May 28, 2019|May 30, 2019|          Teen|\n",
      "|Calculus Tutorial...|        Education|   0.0|         0.0|    100+|           100.0|           277.0|  0.0|     USD| 15M|Jun 18, 2020|Jun 01, 2021|      Everyone|\n",
      "|     1-Click Hotspot|            Tools|   2.7|       420.0| 50,000+|         50000.0|         59427.0|  0.0|     USD|4.9M|Jun 28, 2013|Jan 14, 2020|      Everyone|\n",
      "|Psychrometry Calc...|            Tools|   4.3|        20.0|  1,000+|          1000.0|          1396.0|  0.0|     USD|4.3M| Sep 2, 2019|Aug 16, 2020|      Everyone|\n",
      "|Peribahasa Bahasa...|Books & Reference|   3.8|        13.0|  1,000+|          1000.0|          1079.0|  0.0|     USD|2.8M|Jun 19, 2015|Apr 22, 2020|      Everyone|\n",
      "|      Kamesh Welding|         Business|   0.0|         0.0|     10+|            10.0|            17.0|  0.0|     USD|8.9M|Jun 21, 2018|Jul 02, 2018|      Everyone|\n",
      "|Video To Mp3 Conv...|            Tools|   3.8|        31.0| 10,000+|         10000.0|         13524.0|  0.0|     USD| 38M| Jul 3, 2019|Sep 06, 2019|      Everyone|\n",
      "|Dua e Nudba - Off...|Books & Reference|   4.7|        30.0| 10,000+|         10000.0|         10958.0|  0.0|     USD| 16M|Jun 15, 2017|Jul 24, 2020|      Everyone|\n",
      "|            shyftfly|         Business|   0.0|         0.0|    100+|           100.0|           182.0|  0.0|     USD| 12M|Feb 15, 2018|Oct 22, 2020|      Everyone|\n",
      "+--------------------+-----------------+------+------------+--------+----------------+----------------+-----+--------+----+------------+------------+--------------+\n",
      "only showing top 20 rows\n",
      "\n"
     ]
    }
   ],
   "source": [
    "top.show()"
   ]
  },
  {
   "cell_type": "code",
   "execution_count": 18,
   "id": "2e9056a5-679e-40fc-95b4-cdfda11922d9",
   "metadata": {
    "id": "2e9056a5-679e-40fc-95b4-cdfda11922d9"
   },
   "outputs": [],
   "source": [
    "ggle_df= top.toPandas()"
   ]
  },
  {
   "cell_type": "code",
   "execution_count": 19,
   "id": "c8d09f3a-4463-4f30-bef9-1167a56b4d84",
   "metadata": {
    "colab": {
     "base_uri": "https://localhost:8080/",
     "height": 618
    },
    "id": "c8d09f3a-4463-4f30-bef9-1167a56b4d84",
    "outputId": "144dc55b-e003-4434-f20f-8dd60d418b05"
   },
   "outputs": [
    {
     "data": {
      "text/html": [
       "<div>\n",
       "<style scoped>\n",
       "    .dataframe tbody tr th:only-of-type {\n",
       "        vertical-align: middle;\n",
       "    }\n",
       "\n",
       "    .dataframe tbody tr th {\n",
       "        vertical-align: top;\n",
       "    }\n",
       "\n",
       "    .dataframe thead th {\n",
       "        text-align: right;\n",
       "    }\n",
       "</style>\n",
       "<table border=\"1\" class=\"dataframe\">\n",
       "  <thead>\n",
       "    <tr style=\"text-align: right;\">\n",
       "      <th></th>\n",
       "      <th>App Name</th>\n",
       "      <th>Category</th>\n",
       "      <th>Rating</th>\n",
       "      <th>Rating Count</th>\n",
       "      <th>Installs</th>\n",
       "      <th>Minimum Installs</th>\n",
       "      <th>Maximum Installs</th>\n",
       "      <th>Price</th>\n",
       "      <th>Currency</th>\n",
       "      <th>Size</th>\n",
       "      <th>Released</th>\n",
       "      <th>Last Updated</th>\n",
       "      <th>Content Rating</th>\n",
       "    </tr>\n",
       "  </thead>\n",
       "  <tbody>\n",
       "    <tr>\n",
       "      <th>0</th>\n",
       "      <td>Ampere Battery Info</td>\n",
       "      <td>Tools</td>\n",
       "      <td>4.4</td>\n",
       "      <td>64.0</td>\n",
       "      <td>5,000+</td>\n",
       "      <td>5000.0</td>\n",
       "      <td>7662.0</td>\n",
       "      <td>0.0</td>\n",
       "      <td>USD</td>\n",
       "      <td>2.9M</td>\n",
       "      <td>May 21, 2020</td>\n",
       "      <td>May 06, 2021</td>\n",
       "      <td>Everyone</td>\n",
       "    </tr>\n",
       "    <tr>\n",
       "      <th>1</th>\n",
       "      <td>GROW.me</td>\n",
       "      <td>Tools</td>\n",
       "      <td>0.0</td>\n",
       "      <td>0.0</td>\n",
       "      <td>100+</td>\n",
       "      <td>100.0</td>\n",
       "      <td>478.0</td>\n",
       "      <td>0.0</td>\n",
       "      <td>USD</td>\n",
       "      <td>6.2M</td>\n",
       "      <td>Feb 21, 2020</td>\n",
       "      <td>Nov 12, 2018</td>\n",
       "      <td>Everyone</td>\n",
       "    </tr>\n",
       "    <tr>\n",
       "      <th>2</th>\n",
       "      <td>The Everyday Calendar</td>\n",
       "      <td>Lifestyle</td>\n",
       "      <td>2.0</td>\n",
       "      <td>39.0</td>\n",
       "      <td>500+</td>\n",
       "      <td>500.0</td>\n",
       "      <td>702.0</td>\n",
       "      <td>0.0</td>\n",
       "      <td>USD</td>\n",
       "      <td>16M</td>\n",
       "      <td>Jun 21, 2019</td>\n",
       "      <td>Jun 21, 2019</td>\n",
       "      <td>Everyone</td>\n",
       "    </tr>\n",
       "    <tr>\n",
       "      <th>3</th>\n",
       "      <td>Readymade Grocery App</td>\n",
       "      <td>Food &amp; Drink</td>\n",
       "      <td>4.2</td>\n",
       "      <td>16.0</td>\n",
       "      <td>1,000+</td>\n",
       "      <td>1000.0</td>\n",
       "      <td>4313.0</td>\n",
       "      <td>0.0</td>\n",
       "      <td>USD</td>\n",
       "      <td>12M</td>\n",
       "      <td>Apr 5, 2020</td>\n",
       "      <td>Mar 23, 2021</td>\n",
       "      <td>Everyone</td>\n",
       "    </tr>\n",
       "    <tr>\n",
       "      <th>4</th>\n",
       "      <td>All in one shopping app</td>\n",
       "      <td>Tools</td>\n",
       "      <td>5.0</td>\n",
       "      <td>6.0</td>\n",
       "      <td>50+</td>\n",
       "      <td>50.0</td>\n",
       "      <td>62.0</td>\n",
       "      <td>0.0</td>\n",
       "      <td>USD</td>\n",
       "      <td>2.0M</td>\n",
       "      <td>Apr 24, 2019</td>\n",
       "      <td>May 05, 2019</td>\n",
       "      <td>Everyone</td>\n",
       "    </tr>\n",
       "    <tr>\n",
       "      <th>...</th>\n",
       "      <td>...</td>\n",
       "      <td>...</td>\n",
       "      <td>...</td>\n",
       "      <td>...</td>\n",
       "      <td>...</td>\n",
       "      <td>...</td>\n",
       "      <td>...</td>\n",
       "      <td>...</td>\n",
       "      <td>...</td>\n",
       "      <td>...</td>\n",
       "      <td>...</td>\n",
       "      <td>...</td>\n",
       "      <td>...</td>\n",
       "    </tr>\n",
       "    <tr>\n",
       "      <th>441255</th>\n",
       "      <td>وجبات سريعة التحضير</td>\n",
       "      <td>Books &amp; Reference</td>\n",
       "      <td>3.0</td>\n",
       "      <td>6.0</td>\n",
       "      <td>1,000+</td>\n",
       "      <td>1000.0</td>\n",
       "      <td>1008.0</td>\n",
       "      <td>0.0</td>\n",
       "      <td>USD</td>\n",
       "      <td>3.3M</td>\n",
       "      <td>Sep 2, 2015</td>\n",
       "      <td>Oct 23, 2018</td>\n",
       "      <td>Everyone</td>\n",
       "    </tr>\n",
       "    <tr>\n",
       "      <th>441256</th>\n",
       "      <td>All Electrical Formula &amp; Electrical Calculations</td>\n",
       "      <td>Education</td>\n",
       "      <td>3.9</td>\n",
       "      <td>30.0</td>\n",
       "      <td>5,000+</td>\n",
       "      <td>5000.0</td>\n",
       "      <td>7455.0</td>\n",
       "      <td>0.0</td>\n",
       "      <td>USD</td>\n",
       "      <td>8.0M</td>\n",
       "      <td>Sep 26, 2020</td>\n",
       "      <td>Jan 27, 2021</td>\n",
       "      <td>Everyone</td>\n",
       "    </tr>\n",
       "    <tr>\n",
       "      <th>441257</th>\n",
       "      <td>La Ribambelle De Melkart</td>\n",
       "      <td>Education</td>\n",
       "      <td>4.8</td>\n",
       "      <td>24.0</td>\n",
       "      <td>100+</td>\n",
       "      <td>100.0</td>\n",
       "      <td>314.0</td>\n",
       "      <td>0.0</td>\n",
       "      <td>USD</td>\n",
       "      <td>4.2M</td>\n",
       "      <td>Sep 23, 2015</td>\n",
       "      <td>Feb 17, 2019</td>\n",
       "      <td>Everyone</td>\n",
       "    </tr>\n",
       "    <tr>\n",
       "      <th>441258</th>\n",
       "      <td>MAFAB - Filmek adatbázisa</td>\n",
       "      <td>Entertainment</td>\n",
       "      <td>3.4</td>\n",
       "      <td>61.0</td>\n",
       "      <td>5,000+</td>\n",
       "      <td>5000.0</td>\n",
       "      <td>9851.0</td>\n",
       "      <td>0.0</td>\n",
       "      <td>USD</td>\n",
       "      <td>1.1M</td>\n",
       "      <td>Aug 17, 2015</td>\n",
       "      <td>May 10, 2019</td>\n",
       "      <td>Everyone</td>\n",
       "    </tr>\n",
       "    <tr>\n",
       "      <th>441259</th>\n",
       "      <td>Qarib Shop Owner</td>\n",
       "      <td>Food &amp; Drink</td>\n",
       "      <td>0.0</td>\n",
       "      <td>0.0</td>\n",
       "      <td>5+</td>\n",
       "      <td>5.0</td>\n",
       "      <td>9.0</td>\n",
       "      <td>0.0</td>\n",
       "      <td>USD</td>\n",
       "      <td>21M</td>\n",
       "      <td>Jan 8, 2020</td>\n",
       "      <td>Jan 17, 2020</td>\n",
       "      <td>Everyone</td>\n",
       "    </tr>\n",
       "  </tbody>\n",
       "</table>\n",
       "<p>441260 rows × 13 columns</p>\n",
       "</div>"
      ],
      "text/plain": [
       "                                                App Name  ... Content Rating\n",
       "0                                    Ampere Battery Info  ...       Everyone\n",
       "1                                                GROW.me  ...       Everyone\n",
       "2                                  The Everyday Calendar  ...       Everyone\n",
       "3                                  Readymade Grocery App  ...       Everyone\n",
       "4                                All in one shopping app  ...       Everyone\n",
       "...                                                  ...  ...            ...\n",
       "441255                               وجبات سريعة التحضير  ...       Everyone\n",
       "441256  All Electrical Formula & Electrical Calculations  ...       Everyone\n",
       "441257                          La Ribambelle De Melkart  ...       Everyone\n",
       "441258                         MAFAB - Filmek adatbázisa  ...       Everyone\n",
       "441259                                  Qarib Shop Owner  ...       Everyone\n",
       "\n",
       "[441260 rows x 13 columns]"
      ]
     },
     "execution_count": 19,
     "metadata": {
      "tags": []
     },
     "output_type": "execute_result"
    }
   ],
   "source": [
    "ggle_df"
   ]
  },
  {
   "cell_type": "code",
   "execution_count": 20,
   "id": "13104fb4-18ba-46f4-80e9-54f640e264ca",
   "metadata": {
    "id": "13104fb4-18ba-46f4-80e9-54f640e264ca"
   },
   "outputs": [],
   "source": [
    "import pandas as pd\n",
    "import numpy as np\n",
    "import matplotlib.pyplot as plt\n",
    "import seaborn as sns"
   ]
  },
  {
   "cell_type": "code",
   "execution_count": 21,
   "id": "eMPPai02sHCg",
   "metadata": {
    "colab": {
     "base_uri": "https://localhost:8080/",
     "height": 514
    },
    "id": "eMPPai02sHCg",
    "outputId": "83bdeba6-63fe-4db6-f20c-b325789c016e"
   },
   "outputs": [
    {
     "data": {
      "text/plain": [
       "<matplotlib.axes._subplots.AxesSubplot at 0x7f168b306d10>"
      ]
     },
     "execution_count": 21,
     "metadata": {
      "tags": []
     },
     "output_type": "execute_result"
    },
    {
     "data": {
      "image/png": "[encoded data removed]",
      "text/plain": [
       "<Figure size 576x576 with 1 Axes>"
      ]
     },
     "metadata": {
      "needs_background": "light",
      "tags": []
     },
     "output_type": "display_data"
    }
   ],
   "source": [
    "fig_dims = (8, 8)\n",
    "fig, ax = plt.subplots(figsize=fig_dims)\n",
    "order = ggle_df.Category.value_counts().index\n",
    "sns.countplot(y=ggle_df.Category, ax=ax, orient='h', order=order)"
   ]
  },
  {
   "cell_type": "code",
   "execution_count": 22,
   "id": "O_LAJiBfsKyd",
   "metadata": {
    "colab": {
     "base_uri": "https://localhost:8080/",
     "height": 514
    },
    "id": "O_LAJiBfsKyd",
    "outputId": "f0d94c3c-ddf8-4dea-eef3-59d8186e71bf"
   },
   "outputs": [
    {
     "data": {
      "text/plain": [
       "<matplotlib.axes._subplots.AxesSubplot at 0x7f168c9b7c90>"
      ]
     },
     "execution_count": 22,
     "metadata": {
      "tags": []
     },
     "output_type": "execute_result"
    },
    {
     "data": {
      "image/png": "[encoded data removed]",
      "text/plain": [
       "<Figure size 576x576 with 1 Axes>"
      ]
     },
     "metadata": {
      "needs_background": "light",
      "tags": []
     },
     "output_type": "display_data"
    }
   ],
   "source": [
    "ig_dims = (8, 8)\n",
    "ax = plt.subplots(figsize=fig_dims)\n",
    "sns.countplot(data=ggle_df, x='Content Rating')"
   ]
  },
  {
   "cell_type": "code",
   "execution_count": 23,
   "id": "kl6xAzwWshJN",
   "metadata": {
    "colab": {
     "base_uri": "https://localhost:8080/",
     "height": 978
    },
    "id": "kl6xAzwWshJN",
    "outputId": "59131630-ac1d-49c2-9050-a5d58027e33a"
   },
   "outputs": [
    {
     "data": {
      "text/plain": [
       "([<matplotlib.patches.Wedge at 0x7f168e715550>,\n",
       "  <matplotlib.patches.Wedge at 0x7f168e715f10>,\n",
       "  <matplotlib.patches.Wedge at 0x7f168e8c3b10>,\n",
       "  <matplotlib.patches.Wedge at 0x7f168e8b7710>,\n",
       "  <matplotlib.patches.Wedge at 0x7f168e8a96d0>,\n",
       "  <matplotlib.patches.Wedge at 0x7f168e89e2d0>,\n",
       "  <matplotlib.patches.Wedge at 0x7f168e89ead0>,\n",
       "  <matplotlib.patches.Wedge at 0x7f168e891690>],\n",
       " [Text(-0.7677803272124404, 0.7877267096814466, 'Education'),\n",
       "  Text(-0.998360723318168, -0.4618180010952633, 'Tools'),\n",
       "  Text(-0.24096473797299797, -1.073282812241771, 'Business'),\n",
       "  Text(0.692426943532901, -0.8547192099570974, 'Entertainment'),\n",
       "  Text(1.0977053353643356, -0.07101405996471198, 'Lifestyle'),\n",
       "  Text(0.8459108302786918, 0.7031606268963119, 'Books & Reference'),\n",
       "  Text(0.28680584526543984, 1.0619521680007893, 'Food & Drink'),\n",
       "  Text(0.014863774307866161, 1.099899571876144, 'Music')],\n",
       " [Text(-0.4187892693886038, 0.42966911437169814, '24.59%'),\n",
       "  Text(-0.5445603945371825, -0.25190072787014356, '14.61%'),\n",
       "  Text(-0.13143531162163524, -0.5854269884955114, '14.57%'),\n",
       "  Text(0.37768742374521874, -0.4662104781584167, '14.13%'),\n",
       "  Text(0.5987483647441829, -0.0387349417989338, '12.14%'),\n",
       "  Text(0.46140590742474097, 0.383542160125261, '11.99%'),\n",
       "  Text(0.1564395519629672, 0.5792466370913396, '7.54%'),\n",
       "  Text(0.008107513258836086, 0.5999452210233512, '0.43%')])"
      ]
     },
     "execution_count": 23,
     "metadata": {
      "tags": []
     },
     "output_type": "execute_result"
    },
    {
     "data": {
      "image/png": "[encoded data removed]",
      "text/plain": [
       "<Figure size 720x720 with 1 Axes>"
      ]
     },
     "metadata": {
      "tags": []
     },
     "output_type": "display_data"
    }
   ],
   "source": [
    "fig_dims = (10, 10)\n",
    "ax = plt.subplots(figsize=fig_dims)\n",
    "labels = ggle_df['Category'].value_counts(sort=True).index\n",
    "types = ggle_df['Category'].value_counts(sort = True)\n",
    "plt.pie(types, labels=labels, autopct='%1.2f%%', shadow=True, startangle=90)\n",
    "# plt.legend()"
   ]
  },
  {
   "cell_type": "code",
   "execution_count": 24,
   "id": "8UTGw_BPsmxI",
   "metadata": {
    "colab": {
     "base_uri": "https://localhost:8080/",
     "height": 877
    },
    "id": "8UTGw_BPsmxI",
    "outputId": "9ea1ebcb-ce51-446a-9cef-0fd6acaffb28"
   },
   "outputs": [
    {
     "data": {
      "image/png": "[encoded data removed]",
      "text/plain": [
       "<Figure size 1080x1080 with 1 Axes>"
      ]
     },
     "metadata": {
      "needs_background": "light",
      "tags": []
     },
     "output_type": "display_data"
    }
   ],
   "source": [
    "fig_dims = (15, 15)\n",
    "ax = plt.subplots(figsize=fig_dims)\n",
    "expensive_apps = ggle_df.sort_values(by='Price', ascending=False).head(10)\n",
    "splot = sns.barplot(data=expensive_apps, y='Category', x='Price', orient='h')\n",
    "for (p, installs) in zip(splot.patches, expensive_apps['Installs']):\n",
    "    width = p.get_width()\n",
    "    splot.text(p.get_width()-50, p.get_y()+0.55*p.get_height(),\n",
    "             s=f'{installs} installs' ,\n",
    "             ha='center', va='center') \n",
    "    \n",
    "\n",
    "\n",
    "    "
   ]
  },
  {
   "cell_type": "code",
   "execution_count": 1,
   "id": "pr0qYC2iGVP-",
   "metadata": {
    "colab": {
     "base_uri": "https://localhost:8080/",
     "height": 195
    },
    "id": "pr0qYC2iGVP-",
    "outputId": "d8206e06-c60c-49c4-e958-35ff4b1d4564"
   },
   "outputs": [
    {
     "ename": "NameError",
     "evalue": "ignored",
     "output_type": "error",
     "traceback": [
      "\u001b[0;31m---------------------------------------------------------------------------\u001b[0m",
      "\u001b[0;31mNameError\u001b[0m                                 Traceback (most recent call last)",
      "\u001b[0;32m<ipython-input-1-502ba6945581>\u001b[0m in \u001b[0;36m<module>\u001b[0;34m()\u001b[0m\n\u001b[0;32m----> 1\u001b[0;31m \u001b[0mplt\u001b[0m\u001b[0;34m.\u001b[0m\u001b[0mfigure\u001b[0m\u001b[0;34m(\u001b[0m\u001b[0mfigsize\u001b[0m\u001b[0;34m=\u001b[0m\u001b[0;34m(\u001b[0m\u001b[0;36m30\u001b[0m\u001b[0;34m,\u001b[0m\u001b[0;36m15\u001b[0m\u001b[0;34m)\u001b[0m\u001b[0;34m)\u001b[0m\u001b[0;34m\u001b[0m\u001b[0;34m\u001b[0m\u001b[0m\n\u001b[0m\u001b[1;32m      2\u001b[0m \u001b[0msns\u001b[0m\u001b[0;34m.\u001b[0m\u001b[0mcountplot\u001b[0m\u001b[0;34m(\u001b[0m\u001b[0mtrain_data\u001b[0m\u001b[0;34m[\u001b[0m\u001b[0;34m'Minimum Android'\u001b[0m\u001b[0;34m]\u001b[0m\u001b[0;34m)\u001b[0m\u001b[0;34m\u001b[0m\u001b[0;34m\u001b[0m\u001b[0m\n\u001b[1;32m      3\u001b[0m \u001b[0mplt\u001b[0m\u001b[0;34m.\u001b[0m\u001b[0mplot\u001b[0m\u001b[0;34m(\u001b[0m\u001b[0;34m)\u001b[0m\u001b[0;34m\u001b[0m\u001b[0;34m\u001b[0m\u001b[0m\n",
      "\u001b[0;31mNameError\u001b[0m: name 'plt' is not defined"
     ]
    }
   ],
   "source": [
    "plt.figure(figsize=(30,15))\n",
    "sns.countplot(train_data['Minimum Android'])\n",
    "plt.plot()"
   ]
  },
  {
   "cell_type": "code",
   "execution_count": 25,
   "id": "Nbt-MdbcssIZ",
   "metadata": {
    "colab": {
     "base_uri": "https://localhost:8080/",
     "height": 527
    },
    "id": "Nbt-MdbcssIZ",
    "outputId": "9997e9b4-97d9-4597-f416-a91845c72c02"
   },
   "outputs": [
    {
     "data": {
      "text/plain": [
       "<matplotlib.axes._subplots.AxesSubplot at 0x7f168f134d10>"
      ]
     },
     "execution_count": 25,
     "metadata": {
      "tags": []
     },
     "output_type": "execute_result"
    },
    {
     "data": {
      "image/png": "[encoded data removed]",
      "text/plain": [
       "<Figure size 576x504 with 2 Axes>"
      ]
     },
     "metadata": {
      "needs_background": "light",
      "tags": []
     },
     "output_type": "display_data"
    }
   ],
   "source": [
    "df_corr = ggle_df.corr()\n",
    "\n",
    "plt.subplots(figsize=(8,7))\n",
    "sns.heatmap(df_corr, annot=True, linewidths=1, cbar=True)"
   ]
  },
  {
   "cell_type": "code",
   "execution_count": 26,
   "id": "ExYuyg8Ks_Ph",
   "metadata": {
    "colab": {
     "base_uri": "https://localhost:8080/",
     "height": 618
    },
    "id": "ExYuyg8Ks_Ph",
    "outputId": "6efcb187-401e-4a4d-f8d5-26ae6e6a366b"
   },
   "outputs": [
    {
     "data": {
      "text/html": [
       "<div>\n",
       "<style scoped>\n",
       "    .dataframe tbody tr th:only-of-type {\n",
       "        vertical-align: middle;\n",
       "    }\n",
       "\n",
       "    .dataframe tbody tr th {\n",
       "        vertical-align: top;\n",
       "    }\n",
       "\n",
       "    .dataframe thead th {\n",
       "        text-align: right;\n",
       "    }\n",
       "</style>\n",
       "<table border=\"1\" class=\"dataframe\">\n",
       "  <thead>\n",
       "    <tr style=\"text-align: right;\">\n",
       "      <th></th>\n",
       "      <th>App Name</th>\n",
       "      <th>Category</th>\n",
       "      <th>Rating</th>\n",
       "      <th>Rating Count</th>\n",
       "      <th>Installs</th>\n",
       "      <th>Minimum Installs</th>\n",
       "      <th>Maximum Installs</th>\n",
       "      <th>Price</th>\n",
       "      <th>Currency</th>\n",
       "      <th>Size</th>\n",
       "      <th>Released</th>\n",
       "      <th>Last Updated</th>\n",
       "      <th>Content Rating</th>\n",
       "    </tr>\n",
       "  </thead>\n",
       "  <tbody>\n",
       "    <tr>\n",
       "      <th>0</th>\n",
       "      <td>Ampere Battery Info</td>\n",
       "      <td>Tools</td>\n",
       "      <td>4.4</td>\n",
       "      <td>64.0</td>\n",
       "      <td>5,000+</td>\n",
       "      <td>5000.0</td>\n",
       "      <td>7662.0</td>\n",
       "      <td>0.0</td>\n",
       "      <td>USD</td>\n",
       "      <td>2.9M</td>\n",
       "      <td>May 21, 2020</td>\n",
       "      <td>May 06, 2021</td>\n",
       "      <td>Everyone</td>\n",
       "    </tr>\n",
       "    <tr>\n",
       "      <th>1</th>\n",
       "      <td>GROW.me</td>\n",
       "      <td>Tools</td>\n",
       "      <td>0.0</td>\n",
       "      <td>0.0</td>\n",
       "      <td>100+</td>\n",
       "      <td>100.0</td>\n",
       "      <td>478.0</td>\n",
       "      <td>0.0</td>\n",
       "      <td>USD</td>\n",
       "      <td>6.2M</td>\n",
       "      <td>Feb 21, 2020</td>\n",
       "      <td>Nov 12, 2018</td>\n",
       "      <td>Everyone</td>\n",
       "    </tr>\n",
       "    <tr>\n",
       "      <th>2</th>\n",
       "      <td>The Everyday Calendar</td>\n",
       "      <td>Lifestyle</td>\n",
       "      <td>2.0</td>\n",
       "      <td>39.0</td>\n",
       "      <td>500+</td>\n",
       "      <td>500.0</td>\n",
       "      <td>702.0</td>\n",
       "      <td>0.0</td>\n",
       "      <td>USD</td>\n",
       "      <td>16M</td>\n",
       "      <td>Jun 21, 2019</td>\n",
       "      <td>Jun 21, 2019</td>\n",
       "      <td>Everyone</td>\n",
       "    </tr>\n",
       "    <tr>\n",
       "      <th>3</th>\n",
       "      <td>Readymade Grocery App</td>\n",
       "      <td>Food &amp; Drink</td>\n",
       "      <td>4.2</td>\n",
       "      <td>16.0</td>\n",
       "      <td>1,000+</td>\n",
       "      <td>1000.0</td>\n",
       "      <td>4313.0</td>\n",
       "      <td>0.0</td>\n",
       "      <td>USD</td>\n",
       "      <td>12M</td>\n",
       "      <td>Apr 5, 2020</td>\n",
       "      <td>Mar 23, 2021</td>\n",
       "      <td>Everyone</td>\n",
       "    </tr>\n",
       "    <tr>\n",
       "      <th>4</th>\n",
       "      <td>All in one shopping app</td>\n",
       "      <td>Tools</td>\n",
       "      <td>5.0</td>\n",
       "      <td>6.0</td>\n",
       "      <td>50+</td>\n",
       "      <td>50.0</td>\n",
       "      <td>62.0</td>\n",
       "      <td>0.0</td>\n",
       "      <td>USD</td>\n",
       "      <td>2.0M</td>\n",
       "      <td>Apr 24, 2019</td>\n",
       "      <td>May 05, 2019</td>\n",
       "      <td>Everyone</td>\n",
       "    </tr>\n",
       "    <tr>\n",
       "      <th>...</th>\n",
       "      <td>...</td>\n",
       "      <td>...</td>\n",
       "      <td>...</td>\n",
       "      <td>...</td>\n",
       "      <td>...</td>\n",
       "      <td>...</td>\n",
       "      <td>...</td>\n",
       "      <td>...</td>\n",
       "      <td>...</td>\n",
       "      <td>...</td>\n",
       "      <td>...</td>\n",
       "      <td>...</td>\n",
       "      <td>...</td>\n",
       "    </tr>\n",
       "    <tr>\n",
       "      <th>441255</th>\n",
       "      <td>وجبات سريعة التحضير</td>\n",
       "      <td>Books &amp; Reference</td>\n",
       "      <td>3.0</td>\n",
       "      <td>6.0</td>\n",
       "      <td>1,000+</td>\n",
       "      <td>1000.0</td>\n",
       "      <td>1008.0</td>\n",
       "      <td>0.0</td>\n",
       "      <td>USD</td>\n",
       "      <td>3.3M</td>\n",
       "      <td>Sep 2, 2015</td>\n",
       "      <td>Oct 23, 2018</td>\n",
       "      <td>Everyone</td>\n",
       "    </tr>\n",
       "    <tr>\n",
       "      <th>441256</th>\n",
       "      <td>All Electrical Formula &amp; Electrical Calculations</td>\n",
       "      <td>Education</td>\n",
       "      <td>3.9</td>\n",
       "      <td>30.0</td>\n",
       "      <td>5,000+</td>\n",
       "      <td>5000.0</td>\n",
       "      <td>7455.0</td>\n",
       "      <td>0.0</td>\n",
       "      <td>USD</td>\n",
       "      <td>8.0M</td>\n",
       "      <td>Sep 26, 2020</td>\n",
       "      <td>Jan 27, 2021</td>\n",
       "      <td>Everyone</td>\n",
       "    </tr>\n",
       "    <tr>\n",
       "      <th>441257</th>\n",
       "      <td>La Ribambelle De Melkart</td>\n",
       "      <td>Education</td>\n",
       "      <td>4.8</td>\n",
       "      <td>24.0</td>\n",
       "      <td>100+</td>\n",
       "      <td>100.0</td>\n",
       "      <td>314.0</td>\n",
       "      <td>0.0</td>\n",
       "      <td>USD</td>\n",
       "      <td>4.2M</td>\n",
       "      <td>Sep 23, 2015</td>\n",
       "      <td>Feb 17, 2019</td>\n",
       "      <td>Everyone</td>\n",
       "    </tr>\n",
       "    <tr>\n",
       "      <th>441258</th>\n",
       "      <td>MAFAB - Filmek adatbázisa</td>\n",
       "      <td>Entertainment</td>\n",
       "      <td>3.4</td>\n",
       "      <td>61.0</td>\n",
       "      <td>5,000+</td>\n",
       "      <td>5000.0</td>\n",
       "      <td>9851.0</td>\n",
       "      <td>0.0</td>\n",
       "      <td>USD</td>\n",
       "      <td>1.1M</td>\n",
       "      <td>Aug 17, 2015</td>\n",
       "      <td>May 10, 2019</td>\n",
       "      <td>Everyone</td>\n",
       "    </tr>\n",
       "    <tr>\n",
       "      <th>441259</th>\n",
       "      <td>Qarib Shop Owner</td>\n",
       "      <td>Food &amp; Drink</td>\n",
       "      <td>0.0</td>\n",
       "      <td>0.0</td>\n",
       "      <td>5+</td>\n",
       "      <td>5.0</td>\n",
       "      <td>9.0</td>\n",
       "      <td>0.0</td>\n",
       "      <td>USD</td>\n",
       "      <td>21M</td>\n",
       "      <td>Jan 8, 2020</td>\n",
       "      <td>Jan 17, 2020</td>\n",
       "      <td>Everyone</td>\n",
       "    </tr>\n",
       "  </tbody>\n",
       "</table>\n",
       "<p>441260 rows × 13 columns</p>\n",
       "</div>"
      ],
      "text/plain": [
       "                                                App Name  ... Content Rating\n",
       "0                                    Ampere Battery Info  ...       Everyone\n",
       "1                                                GROW.me  ...       Everyone\n",
       "2                                  The Everyday Calendar  ...       Everyone\n",
       "3                                  Readymade Grocery App  ...       Everyone\n",
       "4                                All in one shopping app  ...       Everyone\n",
       "...                                                  ...  ...            ...\n",
       "441255                               وجبات سريعة التحضير  ...       Everyone\n",
       "441256  All Electrical Formula & Electrical Calculations  ...       Everyone\n",
       "441257                          La Ribambelle De Melkart  ...       Everyone\n",
       "441258                         MAFAB - Filmek adatbázisa  ...       Everyone\n",
       "441259                                  Qarib Shop Owner  ...       Everyone\n",
       "\n",
       "[441260 rows x 13 columns]"
      ]
     },
     "execution_count": 26,
     "metadata": {
      "tags": []
     },
     "output_type": "execute_result"
    }
   ],
   "source": [
    "ggle_df"
   ]
  },
  {
   "cell_type": "markdown",
   "id": "Z-FdwQK_tDoN",
   "metadata": {
    "id": "Z-FdwQK_tDoN"
   },
   "source": [
    "**Machine learnings**"
   ]
  },
  {
   "cell_type": "code",
   "execution_count": 27,
   "id": "Tjv9Azg-7g4S",
   "metadata": {
    "colab": {
     "base_uri": "https://localhost:8080/"
    },
    "id": "Tjv9Azg-7g4S",
    "outputId": "3b4f395c-2522-4311-d262-0630ff6e8bf1"
   },
   "outputs": [
    {
     "name": "stdout",
     "output_type": "stream",
     "text": [
      "root\n",
      " |-- App Name: string (nullable = true)\n",
      " |-- Category: string (nullable = true)\n",
      " |-- Rating: double (nullable = true)\n",
      " |-- Reviews: double (nullable = true)\n",
      " |-- Installs: string (nullable = true)\n",
      " |-- Size: double (nullable = true)\n",
      " |-- Price: double (nullable = true)\n",
      " |-- Content Rating: string (nullable = true)\n",
      " |-- Game_genre: string (nullable = true)\n",
      "\n"
     ]
    }
   ],
   "source": [
    "ggle_ml = spark.read.csv('google_playstore_cleaned.csv', header = True, inferSchema = True)\n",
    "ggle_ml.printSchema()"
   ]
  },
  {
   "cell_type": "code",
   "execution_count": 28,
   "id": "eh9PVI92tHR7",
   "metadata": {
    "id": "eh9PVI92tHR7"
   },
   "outputs": [],
   "source": [
    "from pyspark.ml.feature import VectorAssembler\n",
    "from pyspark.ml.regression import LinearRegression\n"
   ]
  },
  {
   "cell_type": "code",
   "execution_count": 29,
   "id": "LwpZJ93IAKjH",
   "metadata": {
    "colab": {
     "base_uri": "https://localhost:8080/"
    },
    "id": "LwpZJ93IAKjH",
    "outputId": "2c42809a-3616-481b-a724-e4b475db6a21"
   },
   "outputs": [
    {
     "name": "stdout",
     "output_type": "stream",
     "text": [
      "+--------------------+----------------+-----------+---------+--------------------+------------------+-----+--------------+----------+--------------+\n",
      "|            App Name|        Category|     Rating|  Reviews|            Installs|              Size|Price|Content Rating|Game_genre|Category_Index|\n",
      "+--------------------+----------------+-----------+---------+--------------------+------------------+-----+--------------+----------+--------------+\n",
      "|DoorDash - Food D...|  FOOD_AND_DRINK|4.548561573| 305034.0|5,000,000 - 10,00...|13.686153337739592|  0.0|      Everyone|      null|          21.0|\n",
      "|TripAdvisor Hotel...|TRAVEL_AND_LOCAL|4.400671482|1207922.0|100,000,000 - 500...|17.195525291828794|  0.0|      Everyone|      null|          14.0|\n",
      "|              Peapod|        SHOPPING|3.656329393|   1967.0|   100,000 - 500,000|               1.4|  0.0|      Everyone|      null|          17.0|\n",
      "|foodpanda - Local...|  FOOD_AND_DRINK|4.107232571| 389154.0|10,000,000 - 50,0...|              16.0|  0.0|      Everyone|      null|          21.0|\n",
      "|My CookBook Pro (...|  FOOD_AND_DRINK|4.647752285|   2291.0|     10,000 - 50,000|13.686153337739592| 5.99|      Everyone|      null|          21.0|\n",
      "|Safeway Online Sh...|  FOOD_AND_DRINK| 3.82532239|   2559.0|   100,000 - 500,000|              23.0|  0.0|      Everyone|      null|          21.0|\n",
      "|Yelp: Food, Shopp...|TRAVEL_AND_LOCAL|4.267267704| 421918.0|10,000,000 - 50,0...|17.195525291828794|  0.0|          Teen|      null|          14.0|\n",
      "|Talabat: Food Del...|  FOOD_AND_DRINK|4.495084763| 142618.0|5,000,000 - 10,00...|13.686153337739592|  0.0|      Everyone|      null|          21.0|\n",
      "|Fast Food Locator...|TRAVEL_AND_LOCAL|3.811764717|     85.0|     10,000 - 50,000|               4.1|  0.0|      Everyone|      null|          14.0|\n",
      "|Allrecipes Dinner...|  FOOD_AND_DRINK|4.545353413|  67514.0|5,000,000 - 10,00...|13.686153337739592|  0.0|      Everyone|      null|          21.0|\n",
      "| ???????????????????|  FOOD_AND_DRINK|4.511622429|  28996.0|1,000,000 - 5,000...|13.686153337739592|  0.0|      Everyone|      null|          21.0|\n",
      "|Eat24 Food Delive...|  FOOD_AND_DRINK|4.325407505|  41637.0|1,000,000 - 5,000...|13.686153337739592|  0.0|      Everyone|      null|          21.0|\n",
      "|         FreshDirect|       LIFESTYLE|3.213527918|    754.0|   100,000 - 500,000|              39.0|  0.0|      Everyone|      null|           6.0|\n",
      "|Easy Healthy Reci...|  FOOD_AND_DRINK|4.160278797|    287.0|   100,000 - 500,000|               8.1|  0.0|      Everyone|      null|          21.0|\n",
      "|  Domino's Pizza USA|  FOOD_AND_DRINK|4.739675045|1177040.0|10,000,000 - 50,0...|13.686153337739592|  0.0|      Everyone|      null|          21.0|\n",
      "|iFood - Delivery ...|  FOOD_AND_DRINK|4.630653858|1282039.0|10,000,000 - 50,0...|13.686153337739592|  0.0|      Everyone|      null|          21.0|\n",
      "|         Chick-fil-A|  FOOD_AND_DRINK|4.374690533|  52526.0|5,000,000 - 10,00...|              19.0|  0.0|      Everyone|      null|          21.0|\n",
      "|Kitchen Stories -...|  FOOD_AND_DRINK|4.614589691|  24291.0|1,000,000 - 5,000...|13.686153337739592|  0.0|      Everyone|      null|          21.0|\n",
      "|Seamless: Restaur...|  FOOD_AND_DRINK|4.517921925|  41597.0|1,000,000 - 5,000...|              30.0|  0.0|      Everyone|      null|          21.0|\n",
      "|        Food Planner|  FOOD_AND_DRINK|3.909141541|  10764.0|1,000,000 - 5,000...|              11.0|  0.0|      Everyone|      null|          21.0|\n",
      "+--------------------+----------------+-----------+---------+--------------------+------------------+-----+--------------+----------+--------------+\n",
      "only showing top 20 rows\n",
      "\n",
      "+--------------------+----------------+-----------+---------+--------------------+------------------+-----+--------------+----------+--------------+--------------------+\n",
      "|            App Name|        Category|     Rating|  Reviews|            Installs|              Size|Price|Content Rating|Game_genre|Category_Index|Content_Rating_Index|\n",
      "+--------------------+----------------+-----------+---------+--------------------+------------------+-----+--------------+----------+--------------+--------------------+\n",
      "|DoorDash - Food D...|  FOOD_AND_DRINK|4.548561573| 305034.0|5,000,000 - 10,00...|13.686153337739592|  0.0|      Everyone|      null|          21.0|                 0.0|\n",
      "|TripAdvisor Hotel...|TRAVEL_AND_LOCAL|4.400671482|1207922.0|100,000,000 - 500...|17.195525291828794|  0.0|      Everyone|      null|          14.0|                 0.0|\n",
      "|              Peapod|        SHOPPING|3.656329393|   1967.0|   100,000 - 500,000|               1.4|  0.0|      Everyone|      null|          17.0|                 0.0|\n",
      "|foodpanda - Local...|  FOOD_AND_DRINK|4.107232571| 389154.0|10,000,000 - 50,0...|              16.0|  0.0|      Everyone|      null|          21.0|                 0.0|\n",
      "|My CookBook Pro (...|  FOOD_AND_DRINK|4.647752285|   2291.0|     10,000 - 50,000|13.686153337739592| 5.99|      Everyone|      null|          21.0|                 0.0|\n",
      "|Safeway Online Sh...|  FOOD_AND_DRINK| 3.82532239|   2559.0|   100,000 - 500,000|              23.0|  0.0|      Everyone|      null|          21.0|                 0.0|\n",
      "|Yelp: Food, Shopp...|TRAVEL_AND_LOCAL|4.267267704| 421918.0|10,000,000 - 50,0...|17.195525291828794|  0.0|          Teen|      null|          14.0|                 1.0|\n",
      "|Talabat: Food Del...|  FOOD_AND_DRINK|4.495084763| 142618.0|5,000,000 - 10,00...|13.686153337739592|  0.0|      Everyone|      null|          21.0|                 0.0|\n",
      "|Fast Food Locator...|TRAVEL_AND_LOCAL|3.811764717|     85.0|     10,000 - 50,000|               4.1|  0.0|      Everyone|      null|          14.0|                 0.0|\n",
      "|Allrecipes Dinner...|  FOOD_AND_DRINK|4.545353413|  67514.0|5,000,000 - 10,00...|13.686153337739592|  0.0|      Everyone|      null|          21.0|                 0.0|\n",
      "| ???????????????????|  FOOD_AND_DRINK|4.511622429|  28996.0|1,000,000 - 5,000...|13.686153337739592|  0.0|      Everyone|      null|          21.0|                 0.0|\n",
      "|Eat24 Food Delive...|  FOOD_AND_DRINK|4.325407505|  41637.0|1,000,000 - 5,000...|13.686153337739592|  0.0|      Everyone|      null|          21.0|                 0.0|\n",
      "|         FreshDirect|       LIFESTYLE|3.213527918|    754.0|   100,000 - 500,000|              39.0|  0.0|      Everyone|      null|           6.0|                 0.0|\n",
      "|Easy Healthy Reci...|  FOOD_AND_DRINK|4.160278797|    287.0|   100,000 - 500,000|               8.1|  0.0|      Everyone|      null|          21.0|                 0.0|\n",
      "|  Domino's Pizza USA|  FOOD_AND_DRINK|4.739675045|1177040.0|10,000,000 - 50,0...|13.686153337739592|  0.0|      Everyone|      null|          21.0|                 0.0|\n",
      "|iFood - Delivery ...|  FOOD_AND_DRINK|4.630653858|1282039.0|10,000,000 - 50,0...|13.686153337739592|  0.0|      Everyone|      null|          21.0|                 0.0|\n",
      "|         Chick-fil-A|  FOOD_AND_DRINK|4.374690533|  52526.0|5,000,000 - 10,00...|              19.0|  0.0|      Everyone|      null|          21.0|                 0.0|\n",
      "|Kitchen Stories -...|  FOOD_AND_DRINK|4.614589691|  24291.0|1,000,000 - 5,000...|13.686153337739592|  0.0|      Everyone|      null|          21.0|                 0.0|\n",
      "|Seamless: Restaur...|  FOOD_AND_DRINK|4.517921925|  41597.0|1,000,000 - 5,000...|              30.0|  0.0|      Everyone|      null|          21.0|                 0.0|\n",
      "|        Food Planner|  FOOD_AND_DRINK|3.909141541|  10764.0|1,000,000 - 5,000...|              11.0|  0.0|      Everyone|      null|          21.0|                 0.0|\n",
      "+--------------------+----------------+-----------+---------+--------------------+------------------+-----+--------------+----------+--------------+--------------------+\n",
      "only showing top 20 rows\n",
      "\n"
     ]
    }
   ],
   "source": [
    "from pyspark.ml.feature import StringIndexer\n",
    "output_indexer = StringIndexer(inputCol=\"Category\", outputCol=\"Category_Index\")\n",
    "content_indexer = StringIndexer(inputCol=\"Content Rating\", outputCol=\"Content_Rating_Index\")\n",
    "#Fits a model to the input dataset with optional parameters.\n",
    "ggle_ml_reg = output_indexer.fit(ggle_ml).transform(ggle_ml)\n",
    "ggle_ml_reg.show()\n",
    "ggle_ml_reg_1 = content_indexer.fit(ggle_ml_reg).transform(ggle_ml_reg)\n",
    "ggle_ml_reg_1.show()\n",
    "\n"
   ]
  },
  {
   "cell_type": "code",
   "execution_count": 30,
   "id": "uclAX2f-DfVN",
   "metadata": {
    "colab": {
     "base_uri": "https://localhost:8080/"
    },
    "id": "uclAX2f-DfVN",
    "outputId": "205c9bc0-ebf4-49ed-db73-c1a37af78564"
   },
   "outputs": [
    {
     "name": "stdout",
     "output_type": "stream",
     "text": [
      "+--------------------------------------------------+----------------+-----------+---------+-------------------------+------------------+-----+--------------+----------+--------------+--------------------+---------------+\n",
      "|App Name                                          |Category        |Rating     |Reviews  |Installs                 |Size              |Price|Content Rating|Game_genre|Category_Index|Content_Rating_Index|Category_vec   |\n",
      "+--------------------------------------------------+----------------+-----------+---------+-------------------------+------------------+-----+--------------+----------+--------------+--------------------+---------------+\n",
      "|DoorDash - Food Delivery                          |FOOD_AND_DRINK  |4.548561573|305034.0 |5,000,000 - 10,000,000   |13.686153337739592|0.0  |Everyone      |null      |21.0          |0.0                 |(32,[21],[1.0])|\n",
      "|TripAdvisor Hotels Flights Restaurants Attractions|TRAVEL_AND_LOCAL|4.400671482|1207922.0|100,000,000 - 500,000,000|17.195525291828794|0.0  |Everyone      |null      |14.0          |0.0                 |(32,[14],[1.0])|\n",
      "|Peapod                                            |SHOPPING        |3.656329393|1967.0   |100,000 - 500,000        |1.4               |0.0  |Everyone      |null      |17.0          |0.0                 |(32,[17],[1.0])|\n",
      "|foodpanda - Local Food Delivery                   |FOOD_AND_DRINK  |4.107232571|389154.0 |10,000,000 - 50,000,000  |16.0              |0.0  |Everyone      |null      |21.0          |0.0                 |(32,[21],[1.0])|\n",
      "|My CookBook Pro (Ad Free)                         |FOOD_AND_DRINK  |4.647752285|2291.0   |10,000 - 50,000          |13.686153337739592|5.99 |Everyone      |null      |21.0          |0.0                 |(32,[21],[1.0])|\n",
      "|Safeway Online Shopping                           |FOOD_AND_DRINK  |3.82532239 |2559.0   |100,000 - 500,000        |23.0              |0.0  |Everyone      |null      |21.0          |0.0                 |(32,[21],[1.0])|\n",
      "|Yelp: Food, Shopping, Services Nearby             |TRAVEL_AND_LOCAL|4.267267704|421918.0 |10,000,000 - 50,000,000  |17.195525291828794|0.0  |Teen          |null      |14.0          |1.0                 |(32,[14],[1.0])|\n",
      "|Talabat: Food Delivery                            |FOOD_AND_DRINK  |4.495084763|142618.0 |5,000,000 - 10,000,000   |13.686153337739592|0.0  |Everyone      |null      |21.0          |0.0                 |(32,[21],[1.0])|\n",
      "|Fast Food Locator | Worldwide Fast Food Finder    |TRAVEL_AND_LOCAL|3.811764717|85.0     |10,000 - 50,000          |4.1               |0.0  |Everyone      |null      |14.0          |0.0                 |(32,[14],[1.0])|\n",
      "|Allrecipes Dinner Spinner                         |FOOD_AND_DRINK  |4.545353413|67514.0  |5,000,000 - 10,000,000   |13.686153337739592|0.0  |Everyone      |null      |21.0          |0.0                 |(32,[21],[1.0])|\n",
      "|???????????????????                               |FOOD_AND_DRINK  |4.511622429|28996.0  |1,000,000 - 5,000,000    |13.686153337739592|0.0  |Everyone      |null      |21.0          |0.0                 |(32,[21],[1.0])|\n",
      "|Eat24 Food Delivery & Takeout                     |FOOD_AND_DRINK  |4.325407505|41637.0  |1,000,000 - 5,000,000    |13.686153337739592|0.0  |Everyone      |null      |21.0          |0.0                 |(32,[21],[1.0])|\n",
      "|FreshDirect                                       |LIFESTYLE       |3.213527918|754.0    |100,000 - 500,000        |39.0              |0.0  |Everyone      |null      |6.0           |0.0                 |(32,[6],[1.0]) |\n",
      "|Easy Healthy Recipes for free app                 |FOOD_AND_DRINK  |4.160278797|287.0    |100,000 - 500,000        |8.1               |0.0  |Everyone      |null      |21.0          |0.0                 |(32,[21],[1.0])|\n",
      "|Domino's Pizza USA                                |FOOD_AND_DRINK  |4.739675045|1177040.0|10,000,000 - 50,000,000  |13.686153337739592|0.0  |Everyone      |null      |21.0          |0.0                 |(32,[21],[1.0])|\n",
      "|iFood - Delivery de Comida                        |FOOD_AND_DRINK  |4.630653858|1282039.0|10,000,000 - 50,000,000  |13.686153337739592|0.0  |Everyone      |null      |21.0          |0.0                 |(32,[21],[1.0])|\n",
      "|Chick-fil-A                                       |FOOD_AND_DRINK  |4.374690533|52526.0  |5,000,000 - 10,000,000   |19.0              |0.0  |Everyone      |null      |21.0          |0.0                 |(32,[21],[1.0])|\n",
      "|Kitchen Stories - Recipes & Cooking               |FOOD_AND_DRINK  |4.614589691|24291.0  |1,000,000 - 5,000,000    |13.686153337739592|0.0  |Everyone      |null      |21.0          |0.0                 |(32,[21],[1.0])|\n",
      "|Seamless: Restaurant Takeout & Food Delivery App  |FOOD_AND_DRINK  |4.517921925|41597.0  |1,000,000 - 5,000,000    |30.0              |0.0  |Everyone      |null      |21.0          |0.0                 |(32,[21],[1.0])|\n",
      "|Food Planner                                      |FOOD_AND_DRINK  |3.909141541|10764.0  |1,000,000 - 5,000,000    |11.0              |0.0  |Everyone      |null      |21.0          |0.0                 |(32,[21],[1.0])|\n",
      "+--------------------------------------------------+----------------+-----------+---------+-------------------------+------------------+-----+--------------+----------+--------------+--------------------+---------------+\n",
      "only showing top 20 rows\n",
      "\n",
      "+--------------------------------------------------+----------------+-----------+---------+-------------------------+------------------+-----+--------------+----------+--------------+--------------------+---------------+------------------+\n",
      "|App Name                                          |Category        |Rating     |Reviews  |Installs                 |Size              |Price|Content Rating|Game_genre|Category_Index|Content_Rating_Index|Category_vec   |Content_Rating_vec|\n",
      "+--------------------------------------------------+----------------+-----------+---------+-------------------------+------------------+-----+--------------+----------+--------------+--------------------+---------------+------------------+\n",
      "|DoorDash - Food Delivery                          |FOOD_AND_DRINK  |4.548561573|305034.0 |5,000,000 - 10,000,000   |13.686153337739592|0.0  |Everyone      |null      |21.0          |0.0                 |(32,[21],[1.0])|(5,[0],[1.0])     |\n",
      "|TripAdvisor Hotels Flights Restaurants Attractions|TRAVEL_AND_LOCAL|4.400671482|1207922.0|100,000,000 - 500,000,000|17.195525291828794|0.0  |Everyone      |null      |14.0          |0.0                 |(32,[14],[1.0])|(5,[0],[1.0])     |\n",
      "|Peapod                                            |SHOPPING        |3.656329393|1967.0   |100,000 - 500,000        |1.4               |0.0  |Everyone      |null      |17.0          |0.0                 |(32,[17],[1.0])|(5,[0],[1.0])     |\n",
      "|foodpanda - Local Food Delivery                   |FOOD_AND_DRINK  |4.107232571|389154.0 |10,000,000 - 50,000,000  |16.0              |0.0  |Everyone      |null      |21.0          |0.0                 |(32,[21],[1.0])|(5,[0],[1.0])     |\n",
      "|My CookBook Pro (Ad Free)                         |FOOD_AND_DRINK  |4.647752285|2291.0   |10,000 - 50,000          |13.686153337739592|5.99 |Everyone      |null      |21.0          |0.0                 |(32,[21],[1.0])|(5,[0],[1.0])     |\n",
      "|Safeway Online Shopping                           |FOOD_AND_DRINK  |3.82532239 |2559.0   |100,000 - 500,000        |23.0              |0.0  |Everyone      |null      |21.0          |0.0                 |(32,[21],[1.0])|(5,[0],[1.0])     |\n",
      "|Yelp: Food, Shopping, Services Nearby             |TRAVEL_AND_LOCAL|4.267267704|421918.0 |10,000,000 - 50,000,000  |17.195525291828794|0.0  |Teen          |null      |14.0          |1.0                 |(32,[14],[1.0])|(5,[1],[1.0])     |\n",
      "|Talabat: Food Delivery                            |FOOD_AND_DRINK  |4.495084763|142618.0 |5,000,000 - 10,000,000   |13.686153337739592|0.0  |Everyone      |null      |21.0          |0.0                 |(32,[21],[1.0])|(5,[0],[1.0])     |\n",
      "|Fast Food Locator | Worldwide Fast Food Finder    |TRAVEL_AND_LOCAL|3.811764717|85.0     |10,000 - 50,000          |4.1               |0.0  |Everyone      |null      |14.0          |0.0                 |(32,[14],[1.0])|(5,[0],[1.0])     |\n",
      "|Allrecipes Dinner Spinner                         |FOOD_AND_DRINK  |4.545353413|67514.0  |5,000,000 - 10,000,000   |13.686153337739592|0.0  |Everyone      |null      |21.0          |0.0                 |(32,[21],[1.0])|(5,[0],[1.0])     |\n",
      "|???????????????????                               |FOOD_AND_DRINK  |4.511622429|28996.0  |1,000,000 - 5,000,000    |13.686153337739592|0.0  |Everyone      |null      |21.0          |0.0                 |(32,[21],[1.0])|(5,[0],[1.0])     |\n",
      "|Eat24 Food Delivery & Takeout                     |FOOD_AND_DRINK  |4.325407505|41637.0  |1,000,000 - 5,000,000    |13.686153337739592|0.0  |Everyone      |null      |21.0          |0.0                 |(32,[21],[1.0])|(5,[0],[1.0])     |\n",
      "|FreshDirect                                       |LIFESTYLE       |3.213527918|754.0    |100,000 - 500,000        |39.0              |0.0  |Everyone      |null      |6.0           |0.0                 |(32,[6],[1.0]) |(5,[0],[1.0])     |\n",
      "|Easy Healthy Recipes for free app                 |FOOD_AND_DRINK  |4.160278797|287.0    |100,000 - 500,000        |8.1               |0.0  |Everyone      |null      |21.0          |0.0                 |(32,[21],[1.0])|(5,[0],[1.0])     |\n",
      "|Domino's Pizza USA                                |FOOD_AND_DRINK  |4.739675045|1177040.0|10,000,000 - 50,000,000  |13.686153337739592|0.0  |Everyone      |null      |21.0          |0.0                 |(32,[21],[1.0])|(5,[0],[1.0])     |\n",
      "|iFood - Delivery de Comida                        |FOOD_AND_DRINK  |4.630653858|1282039.0|10,000,000 - 50,000,000  |13.686153337739592|0.0  |Everyone      |null      |21.0          |0.0                 |(32,[21],[1.0])|(5,[0],[1.0])     |\n",
      "|Chick-fil-A                                       |FOOD_AND_DRINK  |4.374690533|52526.0  |5,000,000 - 10,000,000   |19.0              |0.0  |Everyone      |null      |21.0          |0.0                 |(32,[21],[1.0])|(5,[0],[1.0])     |\n",
      "|Kitchen Stories - Recipes & Cooking               |FOOD_AND_DRINK  |4.614589691|24291.0  |1,000,000 - 5,000,000    |13.686153337739592|0.0  |Everyone      |null      |21.0          |0.0                 |(32,[21],[1.0])|(5,[0],[1.0])     |\n",
      "|Seamless: Restaurant Takeout & Food Delivery App  |FOOD_AND_DRINK  |4.517921925|41597.0  |1,000,000 - 5,000,000    |30.0              |0.0  |Everyone      |null      |21.0          |0.0                 |(32,[21],[1.0])|(5,[0],[1.0])     |\n",
      "|Food Planner                                      |FOOD_AND_DRINK  |3.909141541|10764.0  |1,000,000 - 5,000,000    |11.0              |0.0  |Everyone      |null      |21.0          |0.0                 |(32,[21],[1.0])|(5,[0],[1.0])     |\n",
      "+--------------------------------------------------+----------------+-----------+---------+-------------------------+------------------+-----+--------------+----------+--------------+--------------------+---------------+------------------+\n",
      "only showing top 20 rows\n",
      "\n"
     ]
    }
   ],
   "source": [
    "from pyspark.ml.feature import OneHotEncoder\n",
    "onehotencoder = OneHotEncoder(inputCol=\"Category_Index\", outputCol=\"Category_vec\")\n",
    "ggle_ml_reg_enc = onehotencoder.fit(ggle_ml_reg_1).transform(ggle_ml_reg_1)\n",
    "ggle_ml_reg_enc.show(truncate=False)\n",
    "onehotencoder_1= OneHotEncoder(inputCol=\"Content_Rating_Index\", outputCol=\"Content_Rating_vec\")\n",
    "ggle_ml_reg_hot = onehotencoder_1.fit(ggle_ml_reg_enc).transform(ggle_ml_reg_enc)\n",
    "\n",
    "ggle_ml_reg_hot.show(truncate=False)\n",
    "\n"
   ]
  },
  {
   "cell_type": "code",
   "execution_count": 31,
   "id": "YKuMdrQitjSL",
   "metadata": {
    "colab": {
     "base_uri": "https://localhost:8080/"
    },
    "id": "YKuMdrQitjSL",
    "outputId": "61898044-b548-46a6-ea60-1b75b47cc1f7"
   },
   "outputs": [
    {
     "name": "stdout",
     "output_type": "stream",
     "text": [
      "+--------------------+-----------+\n",
      "|          attributes|     Rating|\n",
      "+--------------------+-----------+\n",
      "|(40,[0,1,24,35],[...|4.548561573|\n",
      "|(40,[0,1,17,35],[...|4.400671482|\n",
      "|(40,[0,1,20,35],[...|3.656329393|\n",
      "|(40,[0,1,24,35],[...|4.107232571|\n",
      "|(40,[0,1,2,24,35]...|4.647752285|\n",
      "|(40,[0,1,24,35],[...| 3.82532239|\n",
      "|(40,[0,1,17,36],[...|4.267267704|\n",
      "|(40,[0,1,24,35],[...|4.495084763|\n",
      "|(40,[0,1,17,35],[...|3.811764717|\n",
      "|(40,[0,1,24,35],[...|4.545353413|\n",
      "|(40,[0,1,24,35],[...|4.511622429|\n",
      "|(40,[0,1,24,35],[...|4.325407505|\n",
      "|(40,[0,1,9,35],[7...|3.213527918|\n",
      "|(40,[0,1,24,35],[...|4.160278797|\n",
      "|(40,[0,1,24,35],[...|4.739675045|\n",
      "|(40,[0,1,24,35],[...|4.630653858|\n",
      "|(40,[0,1,24,35],[...|4.374690533|\n",
      "|(40,[0,1,24,35],[...|4.614589691|\n",
      "|(40,[0,1,24,35],[...|4.517921925|\n",
      "|(40,[0,1,24,35],[...|3.909141541|\n",
      "+--------------------+-----------+\n",
      "only showing top 20 rows\n",
      "\n"
     ]
    }
   ],
   "source": [
    "#Input all the features in one vector columncrim\n",
    "assembler = VectorAssembler(inputCols=[\n",
    "       'Reviews', 'Size','Price','Category_vec','Content_Rating_vec'\n",
    "        ], outputCol = 'attributes')\n",
    "\n",
    "output = assembler.transform(ggle_ml_reg_hot)\n",
    "#Input vs Output\n",
    "finalized_data = output.select(\"attributes\",\"Rating\")\n",
    "\n",
    "finalized_data.show()"
   ]
  },
  {
   "cell_type": "code",
   "execution_count": 32,
   "id": "1c4Xber4zoXX",
   "metadata": {
    "colab": {
     "base_uri": "https://localhost:8080/"
    },
    "id": "1c4Xber4zoXX",
    "outputId": "c7df7d9a-9c14-4399-ef54-6833c0cbfd5f"
   },
   "outputs": [
    {
     "name": "stdout",
     "output_type": "stream",
     "text": [
      "+--------+--------+------+-------+--------+----+-----+--------------+----------+\n",
      "|App Name|Category|Rating|Reviews|Installs|Size|Price|Content Rating|Game_genre|\n",
      "+--------+--------+------+-------+--------+----+-----+--------------+----------+\n",
      "|       0|       0|     0|      0|       0|   0|    0|             0|         0|\n",
      "+--------+--------+------+-------+--------+----+-----+--------------+----------+\n",
      "\n"
     ]
    }
   ],
   "source": [
    "from pyspark.sql.functions import isnan, when, count, col\n",
    "ggle_ml.select([count(when(isnan(c), c)).alias(c) for c in ggle_ml.columns]).show()"
   ]
  },
  {
   "cell_type": "code",
   "execution_count": 33,
   "id": "5fbTQygLuRaz",
   "metadata": {
    "colab": {
     "base_uri": "https://localhost:8080/"
    },
    "id": "5fbTQygLuRaz",
    "outputId": "b0312245-6d90-4919-de35-99095885f091"
   },
   "outputs": [
    {
     "name": "stdout",
     "output_type": "stream",
     "text": [
      "+--------------------+-----------+------------------+\n",
      "|          attributes|     Rating|        prediction|\n",
      "+--------------------+-----------+------------------+\n",
      "|(40,[0,1,2,3,35],...|        5.0| 4.349322497025095|\n",
      "|(40,[0,1,2,3,35],...|        1.0|4.3485681454685485|\n",
      "|(40,[0,1,2,3,35],...|        5.0| 4.348516427351407|\n",
      "|(40,[0,1,2,3,35],...|        5.0| 4.348149698884402|\n",
      "|(40,[0,1,2,3,35],...|        4.0| 4.374771215050214|\n",
      "|(40,[0,1,2,3,35],...|        4.0|4.3485843384440726|\n",
      "|(40,[0,1,2,3,35],...|        5.0|   4.3513562078695|\n",
      "|(40,[0,1,2,3,35],...|        5.0| 4.371390420544685|\n",
      "|(40,[0,1,2,3,35],...|        5.0| 4.354614461257743|\n",
      "|(40,[0,1,2,3,35],...|        4.5| 4.349907601297492|\n",
      "|(40,[0,1,2,3,35],...|        4.5|  4.34978274486263|\n",
      "|(40,[0,1,2,3,35],...|        5.0| 4.353518977503741|\n",
      "|(40,[0,1,2,3,35],...|        4.5| 4.367536121150209|\n",
      "|(40,[0,1,2,3,35],...|4.666666508| 4.349785370483472|\n",
      "|(40,[0,1,2,3,35],...|4.333333492| 4.354047662011984|\n",
      "|(40,[0,1,2,3,35],...|3.666666746| 4.352238053490068|\n",
      "|(40,[0,1,2,3,35],...|       4.75| 4.367724211047355|\n",
      "|(40,[0,1,2,3,35],...|       2.75|   4.3527552466698|\n",
      "|(40,[0,1,2,3,35],...|        4.5|   4.3506520479986|\n",
      "|(40,[0,1,2,3,35],...|        4.0|4.3597575472507355|\n",
      "+--------------------+-----------+------------------+\n",
      "only showing top 20 rows\n",
      "\n"
     ]
    }
   ],
   "source": [
    "#Split training and testing data\n",
    "train_data,test_data = finalized_data.randomSplit([0.8,0.2])\n",
    "\n",
    "\n",
    "regressor = LinearRegression(featuresCol = 'attributes', labelCol = 'Rating')\n",
    "\n",
    "#Learn to fit the model from training set\n",
    "regressor = regressor.fit(train_data)\n",
    "\n",
    "#To predict the prices on testing set\n",
    "pred = regressor.evaluate(test_data)\n",
    "\n",
    "#Predict the model\n",
    "pred.predictions.show()"
   ]
  },
  {
   "cell_type": "code",
   "execution_count": 34,
   "id": "2YKYtnmOvJwj",
   "metadata": {
    "colab": {
     "base_uri": "https://localhost:8080/"
    },
    "id": "2YKYtnmOvJwj",
    "outputId": "c507f90c-6213-4803-dab7-b704f11d3e40"
   },
   "outputs": [
    {
     "name": "stdout",
     "output_type": "stream",
     "text": [
      "The coefficient of the model is : DenseVector([0.0, -0.0, 0.0013, 0.2327, 0.1594, 0.0274, 0.3615, 0.1419, 0.3172, 0.1821, 0.3168, -0.0692, 0.0243, 0.0537, 0.1153, 0.0988, 0.0496, 0.0247, 0.1659, 0.1149, 0.0839, 0.236, -0.0834, 0.1218, 0.1957, -0.0605, 0.0119, 0.1205, 0.0704, 0.1767, -0.0697, 0.2316, 0.2087, 0.0978, 0.1461, 0.1879, 0.2199, 0.1856, 0.1538, 0.0689])\n",
      "The Intercept of the model is : 3.926714\n"
     ]
    }
   ],
   "source": [
    "#coefficient of the regression model\n",
    "coeff = regressor.coefficients\n",
    "\n",
    "#X and Y intercept\n",
    "intr = regressor.intercept\n",
    "\n",
    "print (\"The coefficient of the model is : %a\" %coeff)\n",
    "print (\"The Intercept of the model is : %f\" %intr)"
   ]
  },
  {
   "cell_type": "code",
   "execution_count": 35,
   "id": "ESBJmt3M-U3Y",
   "metadata": {
    "colab": {
     "base_uri": "https://localhost:8080/"
    },
    "id": "ESBJmt3M-U3Y",
    "outputId": "2286dc80-a4dd-4d83-a01a-8fb09249c16f"
   },
   "outputs": [
    {
     "name": "stdout",
     "output_type": "stream",
     "text": [
      "RMSE: 0.573\n",
      "MSE: 0.328\n",
      "MAE: 0.411\n",
      "r2: 0.044\n"
     ]
    }
   ],
   "source": [
    "from pyspark.ml.evaluation import RegressionEvaluator\n",
    "eval = RegressionEvaluator(labelCol=\"Rating\", predictionCol=\"prediction\", metricName=\"rmse\")\n",
    "\n",
    "# Root Mean Square Error\n",
    "rmse = eval.evaluate(pred.predictions)\n",
    "print(\"RMSE: %.3f\" % rmse)\n",
    "\n",
    "# Mean Square Error\n",
    "mse = eval.evaluate(pred.predictions, {eval.metricName: \"mse\"})\n",
    "print(\"MSE: %.3f\" % mse)\n",
    "\n",
    "# Mean Absolute Error\n",
    "mae = eval.evaluate(pred.predictions, {eval.metricName: \"mae\"})\n",
    "print(\"MAE: %.3f\" % mae)\n",
    "\n",
    "# r2 - coefficient of determination\n",
    "r2 = eval.evaluate(pred.predictions, {eval.metricName: \"r2\"})\n",
    "print(\"r2: %.3f\" %r2)"
   ]
  },
  {
   "cell_type": "code",
   "execution_count": 36,
   "id": "cR2v58dW-dkY",
   "metadata": {
    "id": "cR2v58dW-dkY"
   },
   "outputs": [],
   "source": [
    "from pyspark.ml.regression import DecisionTreeRegressor\n",
    "# regressor = LinearRegression(featuresCol = 'attributes', labelCol = 'Rating')\n",
    "dec_tree = DecisionTreeRegressor(featuresCol = 'attributes', labelCol = 'Rating')\n",
    "dec_tree_model = dec_tree.fit(train_data)\n"
   ]
  },
  {
   "cell_type": "code",
   "execution_count": 37,
   "id": "5P85-KXKKZVb",
   "metadata": {
    "colab": {
     "base_uri": "https://localhost:8080/"
    },
    "id": "5P85-KXKKZVb",
    "outputId": "ea2a497c-9519-4ff1-a49a-99a55a8f6d7e"
   },
   "outputs": [
    {
     "data": {
      "text/plain": [
       "SparseVector(40, {0: 0.1276, 1: 0.0428, 2: 0.004, 3: 0.1473, 6: 0.3092, 8: 0.1982, 10: 0.1597, 35: 0.0023, 36: 0.0077, 37: 0.0012})"
      ]
     },
     "execution_count": 37,
     "metadata": {
      "tags": []
     },
     "output_type": "execute_result"
    }
   ],
   "source": [
    "dec_tree_model.featureImportances"
   ]
  },
  {
   "cell_type": "code",
   "execution_count": 38,
   "id": "KRGr0_IlJjd9",
   "metadata": {
    "colab": {
     "base_uri": "https://localhost:8080/"
    },
    "id": "KRGr0_IlJjd9",
    "outputId": "e796dc69-0833-4730-a7f6-dfe03eaf7b4e"
   },
   "outputs": [
    {
     "name": "stdout",
     "output_type": "stream",
     "text": [
      "+--------------------+-----------+-----------------+\n",
      "|          attributes|     Rating|       prediction|\n",
      "+--------------------+-----------+-----------------+\n",
      "|(40,[0,1,2,3,35],...|        5.0|4.338550936118809|\n",
      "|(40,[0,1,2,3,35],...|        1.0|4.338550936118809|\n",
      "|(40,[0,1,2,3,35],...|        5.0|4.338550936118809|\n",
      "|(40,[0,1,2,3,35],...|        5.0|4.338550936118809|\n",
      "|(40,[0,1,2,3,35],...|        4.0|4.338550936118809|\n",
      "|(40,[0,1,2,3,35],...|        4.0|4.338550936118809|\n",
      "|(40,[0,1,2,3,35],...|        5.0|4.338550936118809|\n",
      "|(40,[0,1,2,3,35],...|        5.0|4.338550936118809|\n",
      "|(40,[0,1,2,3,35],...|        5.0|4.338550936118809|\n",
      "|(40,[0,1,2,3,35],...|        4.5|4.338550936118809|\n",
      "|(40,[0,1,2,3,35],...|        4.5|4.338550936118809|\n",
      "|(40,[0,1,2,3,35],...|        5.0|4.338550936118809|\n",
      "|(40,[0,1,2,3,35],...|        4.5|4.338550936118809|\n",
      "|(40,[0,1,2,3,35],...|4.666666508|4.338550936118809|\n",
      "|(40,[0,1,2,3,35],...|4.333333492|4.338550936118809|\n",
      "|(40,[0,1,2,3,35],...|3.666666746|4.338550936118809|\n",
      "|(40,[0,1,2,3,35],...|       4.75|4.338550936118809|\n",
      "|(40,[0,1,2,3,35],...|       2.75|4.338550936118809|\n",
      "|(40,[0,1,2,3,35],...|        4.5|4.338550936118809|\n",
      "|(40,[0,1,2,3,35],...|        4.0|4.338550936118809|\n",
      "+--------------------+-----------+-----------------+\n",
      "only showing top 20 rows\n",
      "\n"
     ]
    }
   ],
   "source": [
    "model_predictions= dec_tree_model.transform(test_data)\n",
    "model_predictions.show()\n"
   ]
  },
  {
   "cell_type": "code",
   "execution_count": 39,
   "id": "w3fHyrYmKb4h",
   "metadata": {
    "colab": {
     "base_uri": "https://localhost:8080/"
    },
    "id": "w3fHyrYmKb4h",
    "outputId": "2f39c60c-71ce-44a9-f5bc-e5c1c33be994"
   },
   "outputs": [
    {
     "name": "stdout",
     "output_type": "stream",
     "text": [
      "The r-square value of DecisionTreeRegressor is 0.032212727274797404\n",
      "The rmse value of DecisionTreeRegressor is 0.5764820260604138\n"
     ]
    }
   ],
   "source": [
    "from pyspark.ml.evaluation import RegressionEvaluator\n",
    "#eval = RegressionEvaluator(labelCol=\"Rating\", predictionCol=\"prediction\", metricName=\"rmse\")\n",
    "dt_evaluator = RegressionEvaluator(labelCol=\"Rating\", predictionCol=\"prediction\",metricName='r2')\n",
    "dt_r2 = dt_evaluator.evaluate(model_predictions)\n",
    "print(f'The r-square value of DecisionTreeRegressor is {dt_r2}')\n",
    "\n",
    "dt_evaluator = RegressionEvaluator(labelCol=\"Rating\", predictionCol=\"prediction\",metricName='rmse')\n",
    "dt_rmse = dt_evaluator.evaluate(model_predictions)\n",
    "print(f'The rmse value of DecisionTreeRegressor is {dt_rmse}')"
   ]
  },
  {
   "cell_type": "code",
   "execution_count": 40,
   "id": "VL-UMVV8Ks5R",
   "metadata": {
    "colab": {
     "base_uri": "https://localhost:8080/"
    },
    "id": "VL-UMVV8Ks5R",
    "outputId": "b58d275f-f4a5-4658-8c4b-9c475f4e683d"
   },
   "outputs": [
    {
     "data": {
      "text/plain": [
       "SparseVector(40, {0: 0.0909, 1: 0.0401, 2: 0.0102, 3: 0.0818, 4: 0.0002, 5: 0.0552, 6: 0.3402, 7: 0.0009, 8: 0.1258, 9: 0.0002, 10: 0.0752, 11: 0.1338, 12: 0.0063, 13: 0.0041, 14: 0.0004, 17: 0.0022, 21: 0.0001, 22: 0.0188, 23: 0.0001, 25: 0.0031, 26: 0.0007, 28: 0.0017, 33: 0.0001, 35: 0.0048, 36: 0.0022, 37: 0.0003, 38: 0.0004, 39: 0.0001})"
      ]
     },
     "execution_count": 40,
     "metadata": {
      "tags": []
     },
     "output_type": "execute_result"
    }
   ],
   "source": [
    "from pyspark.ml.regression import RandomForestRegressor\n",
    "rf = RandomForestRegressor(featuresCol = 'attributes', labelCol = 'Rating')\n",
    "rf_model = rf.fit(train_data)\n",
    "rf_model.featureImportances"
   ]
  },
  {
   "cell_type": "code",
   "execution_count": 41,
   "id": "8SnZOQZ-MhXs",
   "metadata": {
    "colab": {
     "base_uri": "https://localhost:8080/"
    },
    "id": "8SnZOQZ-MhXs",
    "outputId": "c12d3d02-bf0b-477e-c014-6ee45b6f53b6"
   },
   "outputs": [
    {
     "name": "stdout",
     "output_type": "stream",
     "text": [
      "+--------------------+-----------+------------------+\n",
      "|          attributes|     Rating|        prediction|\n",
      "+--------------------+-----------+------------------+\n",
      "|(40,[0,1,2,3,35],...|        5.0| 4.361587228236083|\n",
      "|(40,[0,1,2,3,35],...|        1.0| 4.361108464447719|\n",
      "|(40,[0,1,2,3,35],...|        5.0| 4.365188989245836|\n",
      "|(40,[0,1,2,3,35],...|        5.0| 4.365188989245836|\n",
      "|(40,[0,1,2,3,35],...|        4.0| 4.365853254640308|\n",
      "|(40,[0,1,2,3,35],...|        4.0| 4.365853254640308|\n",
      "|(40,[0,1,2,3,35],...|        5.0| 4.365853254640308|\n",
      "|(40,[0,1,2,3,35],...|        5.0| 4.354046038630007|\n",
      "|(40,[0,1,2,3,35],...|        5.0| 4.354046038630007|\n",
      "|(40,[0,1,2,3,35],...|        4.5| 4.355679585361163|\n",
      "|(40,[0,1,2,3,35],...|        4.5| 4.358312065034232|\n",
      "|(40,[0,1,2,3,35],...|        5.0| 4.358312065034232|\n",
      "|(40,[0,1,2,3,35],...|        4.5| 4.358312065034232|\n",
      "|(40,[0,1,2,3,35],...|4.666666508|4.3146927926898755|\n",
      "|(40,[0,1,2,3,35],...|4.333333492| 4.313244747564828|\n",
      "|(40,[0,1,2,3,35],...|3.666666746| 4.313244747564828|\n",
      "|(40,[0,1,2,3,35],...|       4.75| 4.313244747564828|\n",
      "|(40,[0,1,2,3,35],...|       2.75| 4.313244747564828|\n",
      "|(40,[0,1,2,3,35],...|        4.5| 4.313244747564828|\n",
      "|(40,[0,1,2,3,35],...|        4.0| 4.313244747564828|\n",
      "+--------------------+-----------+------------------+\n",
      "only showing top 20 rows\n",
      "\n"
     ]
    }
   ],
   "source": [
    "\n",
    "model_predictions_rf= rf_model.transform(test_data)\n",
    "model_predictions_rf.show()"
   ]
  },
  {
   "cell_type": "code",
   "execution_count": 42,
   "id": "MK0UplhxMz7i",
   "metadata": {
    "colab": {
     "base_uri": "https://localhost:8080/"
    },
    "id": "MK0UplhxMz7i",
    "outputId": "3cb8bfe4-4cf7-4d7b-9f65-a7d4766de394"
   },
   "outputs": [
    {
     "data": {
      "text/plain": [
       "20"
      ]
     },
     "execution_count": 42,
     "metadata": {
      "tags": []
     },
     "output_type": "execute_result"
    }
   ],
   "source": [
    "rf_model.getNumTrees"
   ]
  },
  {
   "cell_type": "code",
   "execution_count": 43,
   "id": "74xwoNCgNDW3",
   "metadata": {
    "colab": {
     "base_uri": "https://localhost:8080/"
    },
    "id": "74xwoNCgNDW3",
    "outputId": "1a514f20-530c-44ac-c996-13fa4c38ce15"
   },
   "outputs": [
    {
     "name": "stdout",
     "output_type": "stream",
     "text": [
      "The rmse value of RandomForestRegressor is 0.0365698668706137\n",
      "The r-square value of RandomForestRegressor is 0.5751828530578256\n"
     ]
    }
   ],
   "source": [
    "rf_evaluator = RegressionEvaluator(labelCol=\"Rating\", predictionCol=\"prediction\",metricName='r2')\n",
    "rf_r2 = rf_evaluator.evaluate(model_predictions_rf)\n",
    "print(f'The rmse value of RandomForestRegressor is {rf_r2}')\n",
    "\n",
    "rf_evaluator = RegressionEvaluator(labelCol=\"Rating\", predictionCol=\"prediction\",metricName='rmse')\n",
    "rf_rmse = rf_evaluator.evaluate(model_predictions_rf)\n",
    "print(f'The r-square value of RandomForestRegressor is {rf_rmse}')\n"
   ]
  }
 ],
 "metadata": {
  "colab": {
   "name": "my_big (1).ipynb",
   "provenance": []
  },
  "kernelspec": {
   "display_name": "Python 3",
   "language": "python",
   "name": "python3"
  },
  "language_info": {
   "codemirror_mode": {
    "name": "ipython",
    "version": 3
   },
   "file_extension": ".py",
   "mimetype": "text/x-python",
   "name": "python",
   "nbconvert_exporter": "python",
   "pygments_lexer": "ipython3",
   "version": "3.8.5"
  }
 },
 "nbformat": 4,
 "nbformat_minor": 5
}
